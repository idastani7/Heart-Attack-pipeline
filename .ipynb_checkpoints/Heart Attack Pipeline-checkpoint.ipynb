{
 "cells": [
  {
   "cell_type": "markdown",
   "id": "8f7f2eaf",
   "metadata": {},
   "source": [
    "# Add Libraries\n"
   ]
  },
  {
   "cell_type": "code",
   "execution_count": 1,
   "id": "e4d108c2",
   "metadata": {},
   "outputs": [],
   "source": [
    "import pandas as pd\n",
    "import numpy as np\n",
    "import matplotlib.pyplot as plt\n",
    "import seaborn as sns\n",
    "from sklearn.model_selection import GridSearchCV, train_test_split, cross_validate\n",
    "from sklearn.svm import SVC\n",
    "from sklearn.tree import DecisionTreeClassifier\n",
    "from sklearn.preprocessing import Normalizer, StandardScaler\n",
    "from sklearn.neighbors import KNeighborsClassifier\n",
    "from sklearn.ensemble import RandomForestClassifier\n",
    "from sklearn.preprocessing import MinMaxScaler\n",
    "from sklearn.metrics import classification_report\n",
    "from sklearn.metrics import roc_curve\n",
    "from sklearn.pipeline import Pipeline\n",
    "from imblearn.over_sampling import SMOTE"
   ]
  },
  {
   "cell_type": "markdown",
   "id": "2be513f7",
   "metadata": {},
   "source": [
    "# EDA"
   ]
  },
  {
   "cell_type": "code",
   "execution_count": 2,
   "id": "e64a1e44",
   "metadata": {},
   "outputs": [],
   "source": [
    "data = pd.read_csv('heart.csv')"
   ]
  },
  {
   "cell_type": "code",
   "execution_count": 3,
   "id": "a8ec889c",
   "metadata": {
    "scrolled": true
   },
   "outputs": [
    {
     "data": {
      "text/html": [
       "<div>\n",
       "<style scoped>\n",
       "    .dataframe tbody tr th:only-of-type {\n",
       "        vertical-align: middle;\n",
       "    }\n",
       "\n",
       "    .dataframe tbody tr th {\n",
       "        vertical-align: top;\n",
       "    }\n",
       "\n",
       "    .dataframe thead th {\n",
       "        text-align: right;\n",
       "    }\n",
       "</style>\n",
       "<table border=\"1\" class=\"dataframe\">\n",
       "  <thead>\n",
       "    <tr style=\"text-align: right;\">\n",
       "      <th></th>\n",
       "      <th>age</th>\n",
       "      <th>sex</th>\n",
       "      <th>cp</th>\n",
       "      <th>trestbps</th>\n",
       "      <th>chol</th>\n",
       "      <th>fbs</th>\n",
       "      <th>restecg</th>\n",
       "      <th>thalach</th>\n",
       "      <th>exang</th>\n",
       "      <th>oldpeak</th>\n",
       "      <th>slope</th>\n",
       "      <th>ca</th>\n",
       "      <th>thal</th>\n",
       "      <th>target</th>\n",
       "    </tr>\n",
       "  </thead>\n",
       "  <tbody>\n",
       "    <tr>\n",
       "      <th>0</th>\n",
       "      <td>63</td>\n",
       "      <td>1</td>\n",
       "      <td>3</td>\n",
       "      <td>145</td>\n",
       "      <td>233</td>\n",
       "      <td>1</td>\n",
       "      <td>0</td>\n",
       "      <td>150</td>\n",
       "      <td>0</td>\n",
       "      <td>2.3</td>\n",
       "      <td>0</td>\n",
       "      <td>0</td>\n",
       "      <td>1</td>\n",
       "      <td>1</td>\n",
       "    </tr>\n",
       "    <tr>\n",
       "      <th>1</th>\n",
       "      <td>37</td>\n",
       "      <td>1</td>\n",
       "      <td>2</td>\n",
       "      <td>130</td>\n",
       "      <td>250</td>\n",
       "      <td>0</td>\n",
       "      <td>1</td>\n",
       "      <td>187</td>\n",
       "      <td>0</td>\n",
       "      <td>3.5</td>\n",
       "      <td>0</td>\n",
       "      <td>0</td>\n",
       "      <td>2</td>\n",
       "      <td>1</td>\n",
       "    </tr>\n",
       "    <tr>\n",
       "      <th>2</th>\n",
       "      <td>41</td>\n",
       "      <td>0</td>\n",
       "      <td>1</td>\n",
       "      <td>130</td>\n",
       "      <td>204</td>\n",
       "      <td>0</td>\n",
       "      <td>0</td>\n",
       "      <td>172</td>\n",
       "      <td>0</td>\n",
       "      <td>1.4</td>\n",
       "      <td>2</td>\n",
       "      <td>0</td>\n",
       "      <td>2</td>\n",
       "      <td>1</td>\n",
       "    </tr>\n",
       "    <tr>\n",
       "      <th>3</th>\n",
       "      <td>56</td>\n",
       "      <td>1</td>\n",
       "      <td>1</td>\n",
       "      <td>120</td>\n",
       "      <td>236</td>\n",
       "      <td>0</td>\n",
       "      <td>1</td>\n",
       "      <td>178</td>\n",
       "      <td>0</td>\n",
       "      <td>0.8</td>\n",
       "      <td>2</td>\n",
       "      <td>0</td>\n",
       "      <td>2</td>\n",
       "      <td>1</td>\n",
       "    </tr>\n",
       "    <tr>\n",
       "      <th>4</th>\n",
       "      <td>57</td>\n",
       "      <td>0</td>\n",
       "      <td>0</td>\n",
       "      <td>120</td>\n",
       "      <td>354</td>\n",
       "      <td>0</td>\n",
       "      <td>1</td>\n",
       "      <td>163</td>\n",
       "      <td>1</td>\n",
       "      <td>0.6</td>\n",
       "      <td>2</td>\n",
       "      <td>0</td>\n",
       "      <td>2</td>\n",
       "      <td>1</td>\n",
       "    </tr>\n",
       "    <tr>\n",
       "      <th>...</th>\n",
       "      <td>...</td>\n",
       "      <td>...</td>\n",
       "      <td>...</td>\n",
       "      <td>...</td>\n",
       "      <td>...</td>\n",
       "      <td>...</td>\n",
       "      <td>...</td>\n",
       "      <td>...</td>\n",
       "      <td>...</td>\n",
       "      <td>...</td>\n",
       "      <td>...</td>\n",
       "      <td>...</td>\n",
       "      <td>...</td>\n",
       "      <td>...</td>\n",
       "    </tr>\n",
       "    <tr>\n",
       "      <th>298</th>\n",
       "      <td>57</td>\n",
       "      <td>0</td>\n",
       "      <td>0</td>\n",
       "      <td>140</td>\n",
       "      <td>241</td>\n",
       "      <td>0</td>\n",
       "      <td>1</td>\n",
       "      <td>123</td>\n",
       "      <td>1</td>\n",
       "      <td>0.2</td>\n",
       "      <td>1</td>\n",
       "      <td>0</td>\n",
       "      <td>3</td>\n",
       "      <td>0</td>\n",
       "    </tr>\n",
       "    <tr>\n",
       "      <th>299</th>\n",
       "      <td>45</td>\n",
       "      <td>1</td>\n",
       "      <td>3</td>\n",
       "      <td>110</td>\n",
       "      <td>264</td>\n",
       "      <td>0</td>\n",
       "      <td>1</td>\n",
       "      <td>132</td>\n",
       "      <td>0</td>\n",
       "      <td>1.2</td>\n",
       "      <td>1</td>\n",
       "      <td>0</td>\n",
       "      <td>3</td>\n",
       "      <td>0</td>\n",
       "    </tr>\n",
       "    <tr>\n",
       "      <th>300</th>\n",
       "      <td>68</td>\n",
       "      <td>1</td>\n",
       "      <td>0</td>\n",
       "      <td>144</td>\n",
       "      <td>193</td>\n",
       "      <td>1</td>\n",
       "      <td>1</td>\n",
       "      <td>141</td>\n",
       "      <td>0</td>\n",
       "      <td>3.4</td>\n",
       "      <td>1</td>\n",
       "      <td>2</td>\n",
       "      <td>3</td>\n",
       "      <td>0</td>\n",
       "    </tr>\n",
       "    <tr>\n",
       "      <th>301</th>\n",
       "      <td>57</td>\n",
       "      <td>1</td>\n",
       "      <td>0</td>\n",
       "      <td>130</td>\n",
       "      <td>131</td>\n",
       "      <td>0</td>\n",
       "      <td>1</td>\n",
       "      <td>115</td>\n",
       "      <td>1</td>\n",
       "      <td>1.2</td>\n",
       "      <td>1</td>\n",
       "      <td>1</td>\n",
       "      <td>3</td>\n",
       "      <td>0</td>\n",
       "    </tr>\n",
       "    <tr>\n",
       "      <th>302</th>\n",
       "      <td>57</td>\n",
       "      <td>0</td>\n",
       "      <td>1</td>\n",
       "      <td>130</td>\n",
       "      <td>236</td>\n",
       "      <td>0</td>\n",
       "      <td>0</td>\n",
       "      <td>174</td>\n",
       "      <td>0</td>\n",
       "      <td>0.0</td>\n",
       "      <td>1</td>\n",
       "      <td>1</td>\n",
       "      <td>2</td>\n",
       "      <td>0</td>\n",
       "    </tr>\n",
       "  </tbody>\n",
       "</table>\n",
       "<p>303 rows × 14 columns</p>\n",
       "</div>"
      ],
      "text/plain": [
       "     age  sex  cp  trestbps  chol  fbs  restecg  thalach  exang  oldpeak  \\\n",
       "0     63    1   3       145   233    1        0      150      0      2.3   \n",
       "1     37    1   2       130   250    0        1      187      0      3.5   \n",
       "2     41    0   1       130   204    0        0      172      0      1.4   \n",
       "3     56    1   1       120   236    0        1      178      0      0.8   \n",
       "4     57    0   0       120   354    0        1      163      1      0.6   \n",
       "..   ...  ...  ..       ...   ...  ...      ...      ...    ...      ...   \n",
       "298   57    0   0       140   241    0        1      123      1      0.2   \n",
       "299   45    1   3       110   264    0        1      132      0      1.2   \n",
       "300   68    1   0       144   193    1        1      141      0      3.4   \n",
       "301   57    1   0       130   131    0        1      115      1      1.2   \n",
       "302   57    0   1       130   236    0        0      174      0      0.0   \n",
       "\n",
       "     slope  ca  thal  target  \n",
       "0        0   0     1       1  \n",
       "1        0   0     2       1  \n",
       "2        2   0     2       1  \n",
       "3        2   0     2       1  \n",
       "4        2   0     2       1  \n",
       "..     ...  ..   ...     ...  \n",
       "298      1   0     3       0  \n",
       "299      1   0     3       0  \n",
       "300      1   2     3       0  \n",
       "301      1   1     3       0  \n",
       "302      1   1     2       0  \n",
       "\n",
       "[303 rows x 14 columns]"
      ]
     },
     "execution_count": 3,
     "metadata": {},
     "output_type": "execute_result"
    }
   ],
   "source": [
    "data"
   ]
  },
  {
   "cell_type": "code",
   "execution_count": 4,
   "id": "79ccfd0e",
   "metadata": {},
   "outputs": [
    {
     "name": "stdout",
     "output_type": "stream",
     "text": [
      "<class 'pandas.core.frame.DataFrame'>\n",
      "RangeIndex: 303 entries, 0 to 302\n",
      "Data columns (total 14 columns):\n",
      " #   Column    Non-Null Count  Dtype  \n",
      "---  ------    --------------  -----  \n",
      " 0   age       303 non-null    int64  \n",
      " 1   sex       303 non-null    int64  \n",
      " 2   cp        303 non-null    int64  \n",
      " 3   trestbps  303 non-null    int64  \n",
      " 4   chol      303 non-null    int64  \n",
      " 5   fbs       303 non-null    int64  \n",
      " 6   restecg   303 non-null    int64  \n",
      " 7   thalach   303 non-null    int64  \n",
      " 8   exang     303 non-null    int64  \n",
      " 9   oldpeak   303 non-null    float64\n",
      " 10  slope     303 non-null    int64  \n",
      " 11  ca        303 non-null    int64  \n",
      " 12  thal      303 non-null    int64  \n",
      " 13  target    303 non-null    int64  \n",
      "dtypes: float64(1), int64(13)\n",
      "memory usage: 33.3 KB\n"
     ]
    }
   ],
   "source": [
    "data.info()"
   ]
  },
  {
   "cell_type": "code",
   "execution_count": 5,
   "id": "89092662",
   "metadata": {},
   "outputs": [
    {
     "data": {
      "text/html": [
       "<div>\n",
       "<style scoped>\n",
       "    .dataframe tbody tr th:only-of-type {\n",
       "        vertical-align: middle;\n",
       "    }\n",
       "\n",
       "    .dataframe tbody tr th {\n",
       "        vertical-align: top;\n",
       "    }\n",
       "\n",
       "    .dataframe thead th {\n",
       "        text-align: right;\n",
       "    }\n",
       "</style>\n",
       "<table border=\"1\" class=\"dataframe\">\n",
       "  <thead>\n",
       "    <tr style=\"text-align: right;\">\n",
       "      <th></th>\n",
       "      <th>age</th>\n",
       "      <th>sex</th>\n",
       "      <th>cp</th>\n",
       "      <th>trestbps</th>\n",
       "      <th>chol</th>\n",
       "      <th>fbs</th>\n",
       "      <th>restecg</th>\n",
       "      <th>thalach</th>\n",
       "      <th>exang</th>\n",
       "      <th>oldpeak</th>\n",
       "      <th>slope</th>\n",
       "      <th>ca</th>\n",
       "      <th>thal</th>\n",
       "      <th>target</th>\n",
       "    </tr>\n",
       "  </thead>\n",
       "  <tbody>\n",
       "    <tr>\n",
       "      <th>count</th>\n",
       "      <td>303.000000</td>\n",
       "      <td>303.000000</td>\n",
       "      <td>303.000000</td>\n",
       "      <td>303.000000</td>\n",
       "      <td>303.000000</td>\n",
       "      <td>303.000000</td>\n",
       "      <td>303.000000</td>\n",
       "      <td>303.000000</td>\n",
       "      <td>303.000000</td>\n",
       "      <td>303.000000</td>\n",
       "      <td>303.000000</td>\n",
       "      <td>303.000000</td>\n",
       "      <td>303.000000</td>\n",
       "      <td>303.000000</td>\n",
       "    </tr>\n",
       "    <tr>\n",
       "      <th>mean</th>\n",
       "      <td>54.366337</td>\n",
       "      <td>0.683168</td>\n",
       "      <td>0.966997</td>\n",
       "      <td>131.623762</td>\n",
       "      <td>246.264026</td>\n",
       "      <td>0.148515</td>\n",
       "      <td>0.528053</td>\n",
       "      <td>149.646865</td>\n",
       "      <td>0.326733</td>\n",
       "      <td>1.039604</td>\n",
       "      <td>1.399340</td>\n",
       "      <td>0.729373</td>\n",
       "      <td>2.313531</td>\n",
       "      <td>0.544554</td>\n",
       "    </tr>\n",
       "    <tr>\n",
       "      <th>std</th>\n",
       "      <td>9.082101</td>\n",
       "      <td>0.466011</td>\n",
       "      <td>1.032052</td>\n",
       "      <td>17.538143</td>\n",
       "      <td>51.830751</td>\n",
       "      <td>0.356198</td>\n",
       "      <td>0.525860</td>\n",
       "      <td>22.905161</td>\n",
       "      <td>0.469794</td>\n",
       "      <td>1.161075</td>\n",
       "      <td>0.616226</td>\n",
       "      <td>1.022606</td>\n",
       "      <td>0.612277</td>\n",
       "      <td>0.498835</td>\n",
       "    </tr>\n",
       "    <tr>\n",
       "      <th>min</th>\n",
       "      <td>29.000000</td>\n",
       "      <td>0.000000</td>\n",
       "      <td>0.000000</td>\n",
       "      <td>94.000000</td>\n",
       "      <td>126.000000</td>\n",
       "      <td>0.000000</td>\n",
       "      <td>0.000000</td>\n",
       "      <td>71.000000</td>\n",
       "      <td>0.000000</td>\n",
       "      <td>0.000000</td>\n",
       "      <td>0.000000</td>\n",
       "      <td>0.000000</td>\n",
       "      <td>0.000000</td>\n",
       "      <td>0.000000</td>\n",
       "    </tr>\n",
       "    <tr>\n",
       "      <th>25%</th>\n",
       "      <td>47.500000</td>\n",
       "      <td>0.000000</td>\n",
       "      <td>0.000000</td>\n",
       "      <td>120.000000</td>\n",
       "      <td>211.000000</td>\n",
       "      <td>0.000000</td>\n",
       "      <td>0.000000</td>\n",
       "      <td>133.500000</td>\n",
       "      <td>0.000000</td>\n",
       "      <td>0.000000</td>\n",
       "      <td>1.000000</td>\n",
       "      <td>0.000000</td>\n",
       "      <td>2.000000</td>\n",
       "      <td>0.000000</td>\n",
       "    </tr>\n",
       "    <tr>\n",
       "      <th>50%</th>\n",
       "      <td>55.000000</td>\n",
       "      <td>1.000000</td>\n",
       "      <td>1.000000</td>\n",
       "      <td>130.000000</td>\n",
       "      <td>240.000000</td>\n",
       "      <td>0.000000</td>\n",
       "      <td>1.000000</td>\n",
       "      <td>153.000000</td>\n",
       "      <td>0.000000</td>\n",
       "      <td>0.800000</td>\n",
       "      <td>1.000000</td>\n",
       "      <td>0.000000</td>\n",
       "      <td>2.000000</td>\n",
       "      <td>1.000000</td>\n",
       "    </tr>\n",
       "    <tr>\n",
       "      <th>75%</th>\n",
       "      <td>61.000000</td>\n",
       "      <td>1.000000</td>\n",
       "      <td>2.000000</td>\n",
       "      <td>140.000000</td>\n",
       "      <td>274.500000</td>\n",
       "      <td>0.000000</td>\n",
       "      <td>1.000000</td>\n",
       "      <td>166.000000</td>\n",
       "      <td>1.000000</td>\n",
       "      <td>1.600000</td>\n",
       "      <td>2.000000</td>\n",
       "      <td>1.000000</td>\n",
       "      <td>3.000000</td>\n",
       "      <td>1.000000</td>\n",
       "    </tr>\n",
       "    <tr>\n",
       "      <th>max</th>\n",
       "      <td>77.000000</td>\n",
       "      <td>1.000000</td>\n",
       "      <td>3.000000</td>\n",
       "      <td>200.000000</td>\n",
       "      <td>564.000000</td>\n",
       "      <td>1.000000</td>\n",
       "      <td>2.000000</td>\n",
       "      <td>202.000000</td>\n",
       "      <td>1.000000</td>\n",
       "      <td>6.200000</td>\n",
       "      <td>2.000000</td>\n",
       "      <td>4.000000</td>\n",
       "      <td>3.000000</td>\n",
       "      <td>1.000000</td>\n",
       "    </tr>\n",
       "  </tbody>\n",
       "</table>\n",
       "</div>"
      ],
      "text/plain": [
       "              age         sex          cp    trestbps        chol         fbs  \\\n",
       "count  303.000000  303.000000  303.000000  303.000000  303.000000  303.000000   \n",
       "mean    54.366337    0.683168    0.966997  131.623762  246.264026    0.148515   \n",
       "std      9.082101    0.466011    1.032052   17.538143   51.830751    0.356198   \n",
       "min     29.000000    0.000000    0.000000   94.000000  126.000000    0.000000   \n",
       "25%     47.500000    0.000000    0.000000  120.000000  211.000000    0.000000   \n",
       "50%     55.000000    1.000000    1.000000  130.000000  240.000000    0.000000   \n",
       "75%     61.000000    1.000000    2.000000  140.000000  274.500000    0.000000   \n",
       "max     77.000000    1.000000    3.000000  200.000000  564.000000    1.000000   \n",
       "\n",
       "          restecg     thalach       exang     oldpeak       slope          ca  \\\n",
       "count  303.000000  303.000000  303.000000  303.000000  303.000000  303.000000   \n",
       "mean     0.528053  149.646865    0.326733    1.039604    1.399340    0.729373   \n",
       "std      0.525860   22.905161    0.469794    1.161075    0.616226    1.022606   \n",
       "min      0.000000   71.000000    0.000000    0.000000    0.000000    0.000000   \n",
       "25%      0.000000  133.500000    0.000000    0.000000    1.000000    0.000000   \n",
       "50%      1.000000  153.000000    0.000000    0.800000    1.000000    0.000000   \n",
       "75%      1.000000  166.000000    1.000000    1.600000    2.000000    1.000000   \n",
       "max      2.000000  202.000000    1.000000    6.200000    2.000000    4.000000   \n",
       "\n",
       "             thal      target  \n",
       "count  303.000000  303.000000  \n",
       "mean     2.313531    0.544554  \n",
       "std      0.612277    0.498835  \n",
       "min      0.000000    0.000000  \n",
       "25%      2.000000    0.000000  \n",
       "50%      2.000000    1.000000  \n",
       "75%      3.000000    1.000000  \n",
       "max      3.000000    1.000000  "
      ]
     },
     "execution_count": 5,
     "metadata": {},
     "output_type": "execute_result"
    }
   ],
   "source": [
    "data.describe()"
   ]
  },
  {
   "cell_type": "code",
   "execution_count": 6,
   "id": "0f460439",
   "metadata": {},
   "outputs": [
    {
     "data": {
      "text/plain": [
       "age         0\n",
       "sex         0\n",
       "cp          0\n",
       "trestbps    0\n",
       "chol        0\n",
       "fbs         0\n",
       "restecg     0\n",
       "thalach     0\n",
       "exang       0\n",
       "oldpeak     0\n",
       "slope       0\n",
       "ca          0\n",
       "thal        0\n",
       "target      0\n",
       "dtype: int64"
      ]
     },
     "execution_count": 6,
     "metadata": {},
     "output_type": "execute_result"
    }
   ],
   "source": [
    "data.isnull().sum()"
   ]
  },
  {
   "cell_type": "code",
   "execution_count": 7,
   "id": "302b8ae8",
   "metadata": {},
   "outputs": [
    {
     "data": {
      "text/plain": [
       "1"
      ]
     },
     "execution_count": 7,
     "metadata": {},
     "output_type": "execute_result"
    }
   ],
   "source": [
    "data.duplicated().sum()"
   ]
  },
  {
   "cell_type": "code",
   "execution_count": 4,
   "id": "53015679",
   "metadata": {},
   "outputs": [
    {
     "data": {
      "text/html": [
       "<div>\n",
       "<style scoped>\n",
       "    .dataframe tbody tr th:only-of-type {\n",
       "        vertical-align: middle;\n",
       "    }\n",
       "\n",
       "    .dataframe tbody tr th {\n",
       "        vertical-align: top;\n",
       "    }\n",
       "\n",
       "    .dataframe thead th {\n",
       "        text-align: right;\n",
       "    }\n",
       "</style>\n",
       "<table border=\"1\" class=\"dataframe\">\n",
       "  <thead>\n",
       "    <tr style=\"text-align: right;\">\n",
       "      <th></th>\n",
       "      <th>age</th>\n",
       "      <th>sex</th>\n",
       "      <th>cp</th>\n",
       "      <th>trestbps</th>\n",
       "      <th>chol</th>\n",
       "      <th>fbs</th>\n",
       "      <th>restecg</th>\n",
       "      <th>thalach</th>\n",
       "      <th>exang</th>\n",
       "      <th>oldpeak</th>\n",
       "      <th>slope</th>\n",
       "      <th>ca</th>\n",
       "      <th>thal</th>\n",
       "      <th>target</th>\n",
       "    </tr>\n",
       "  </thead>\n",
       "  <tbody>\n",
       "    <tr>\n",
       "      <th>164</th>\n",
       "      <td>38</td>\n",
       "      <td>1</td>\n",
       "      <td>2</td>\n",
       "      <td>138</td>\n",
       "      <td>175</td>\n",
       "      <td>0</td>\n",
       "      <td>1</td>\n",
       "      <td>173</td>\n",
       "      <td>0</td>\n",
       "      <td>0.0</td>\n",
       "      <td>2</td>\n",
       "      <td>4</td>\n",
       "      <td>2</td>\n",
       "      <td>1</td>\n",
       "    </tr>\n",
       "  </tbody>\n",
       "</table>\n",
       "</div>"
      ],
      "text/plain": [
       "     age  sex  cp  trestbps  chol  fbs  restecg  thalach  exang  oldpeak  \\\n",
       "164   38    1   2       138   175    0        1      173      0      0.0   \n",
       "\n",
       "     slope  ca  thal  target  \n",
       "164      2   4     2       1  "
      ]
     },
     "execution_count": 4,
     "metadata": {},
     "output_type": "execute_result"
    }
   ],
   "source": [
    "data[data.duplicated(keep='first')]"
   ]
  },
  {
   "cell_type": "code",
   "execution_count": 4,
   "id": "ea2af06a",
   "metadata": {},
   "outputs": [
    {
     "data": {
      "text/html": [
       "<div>\n",
       "<style scoped>\n",
       "    .dataframe tbody tr th:only-of-type {\n",
       "        vertical-align: middle;\n",
       "    }\n",
       "\n",
       "    .dataframe tbody tr th {\n",
       "        vertical-align: top;\n",
       "    }\n",
       "\n",
       "    .dataframe thead th {\n",
       "        text-align: right;\n",
       "    }\n",
       "</style>\n",
       "<table border=\"1\" class=\"dataframe\">\n",
       "  <thead>\n",
       "    <tr style=\"text-align: right;\">\n",
       "      <th></th>\n",
       "      <th>age</th>\n",
       "      <th>sex</th>\n",
       "      <th>cp</th>\n",
       "      <th>trestbps</th>\n",
       "      <th>chol</th>\n",
       "      <th>fbs</th>\n",
       "      <th>restecg</th>\n",
       "      <th>thalach</th>\n",
       "      <th>exang</th>\n",
       "      <th>oldpeak</th>\n",
       "      <th>slope</th>\n",
       "      <th>ca</th>\n",
       "      <th>thal</th>\n",
       "      <th>target</th>\n",
       "    </tr>\n",
       "  </thead>\n",
       "  <tbody>\n",
       "    <tr>\n",
       "      <th>0</th>\n",
       "      <td>63</td>\n",
       "      <td>1</td>\n",
       "      <td>3</td>\n",
       "      <td>145</td>\n",
       "      <td>233</td>\n",
       "      <td>1</td>\n",
       "      <td>0</td>\n",
       "      <td>150</td>\n",
       "      <td>0</td>\n",
       "      <td>2.3</td>\n",
       "      <td>0</td>\n",
       "      <td>0</td>\n",
       "      <td>1</td>\n",
       "      <td>1</td>\n",
       "    </tr>\n",
       "    <tr>\n",
       "      <th>1</th>\n",
       "      <td>37</td>\n",
       "      <td>1</td>\n",
       "      <td>2</td>\n",
       "      <td>130</td>\n",
       "      <td>250</td>\n",
       "      <td>0</td>\n",
       "      <td>1</td>\n",
       "      <td>187</td>\n",
       "      <td>0</td>\n",
       "      <td>3.5</td>\n",
       "      <td>0</td>\n",
       "      <td>0</td>\n",
       "      <td>2</td>\n",
       "      <td>1</td>\n",
       "    </tr>\n",
       "    <tr>\n",
       "      <th>2</th>\n",
       "      <td>41</td>\n",
       "      <td>0</td>\n",
       "      <td>1</td>\n",
       "      <td>130</td>\n",
       "      <td>204</td>\n",
       "      <td>0</td>\n",
       "      <td>0</td>\n",
       "      <td>172</td>\n",
       "      <td>0</td>\n",
       "      <td>1.4</td>\n",
       "      <td>2</td>\n",
       "      <td>0</td>\n",
       "      <td>2</td>\n",
       "      <td>1</td>\n",
       "    </tr>\n",
       "    <tr>\n",
       "      <th>3</th>\n",
       "      <td>56</td>\n",
       "      <td>1</td>\n",
       "      <td>1</td>\n",
       "      <td>120</td>\n",
       "      <td>236</td>\n",
       "      <td>0</td>\n",
       "      <td>1</td>\n",
       "      <td>178</td>\n",
       "      <td>0</td>\n",
       "      <td>0.8</td>\n",
       "      <td>2</td>\n",
       "      <td>0</td>\n",
       "      <td>2</td>\n",
       "      <td>1</td>\n",
       "    </tr>\n",
       "    <tr>\n",
       "      <th>4</th>\n",
       "      <td>57</td>\n",
       "      <td>0</td>\n",
       "      <td>0</td>\n",
       "      <td>120</td>\n",
       "      <td>354</td>\n",
       "      <td>0</td>\n",
       "      <td>1</td>\n",
       "      <td>163</td>\n",
       "      <td>1</td>\n",
       "      <td>0.6</td>\n",
       "      <td>2</td>\n",
       "      <td>0</td>\n",
       "      <td>2</td>\n",
       "      <td>1</td>\n",
       "    </tr>\n",
       "    <tr>\n",
       "      <th>...</th>\n",
       "      <td>...</td>\n",
       "      <td>...</td>\n",
       "      <td>...</td>\n",
       "      <td>...</td>\n",
       "      <td>...</td>\n",
       "      <td>...</td>\n",
       "      <td>...</td>\n",
       "      <td>...</td>\n",
       "      <td>...</td>\n",
       "      <td>...</td>\n",
       "      <td>...</td>\n",
       "      <td>...</td>\n",
       "      <td>...</td>\n",
       "      <td>...</td>\n",
       "    </tr>\n",
       "    <tr>\n",
       "      <th>298</th>\n",
       "      <td>57</td>\n",
       "      <td>0</td>\n",
       "      <td>0</td>\n",
       "      <td>140</td>\n",
       "      <td>241</td>\n",
       "      <td>0</td>\n",
       "      <td>1</td>\n",
       "      <td>123</td>\n",
       "      <td>1</td>\n",
       "      <td>0.2</td>\n",
       "      <td>1</td>\n",
       "      <td>0</td>\n",
       "      <td>3</td>\n",
       "      <td>0</td>\n",
       "    </tr>\n",
       "    <tr>\n",
       "      <th>299</th>\n",
       "      <td>45</td>\n",
       "      <td>1</td>\n",
       "      <td>3</td>\n",
       "      <td>110</td>\n",
       "      <td>264</td>\n",
       "      <td>0</td>\n",
       "      <td>1</td>\n",
       "      <td>132</td>\n",
       "      <td>0</td>\n",
       "      <td>1.2</td>\n",
       "      <td>1</td>\n",
       "      <td>0</td>\n",
       "      <td>3</td>\n",
       "      <td>0</td>\n",
       "    </tr>\n",
       "    <tr>\n",
       "      <th>300</th>\n",
       "      <td>68</td>\n",
       "      <td>1</td>\n",
       "      <td>0</td>\n",
       "      <td>144</td>\n",
       "      <td>193</td>\n",
       "      <td>1</td>\n",
       "      <td>1</td>\n",
       "      <td>141</td>\n",
       "      <td>0</td>\n",
       "      <td>3.4</td>\n",
       "      <td>1</td>\n",
       "      <td>2</td>\n",
       "      <td>3</td>\n",
       "      <td>0</td>\n",
       "    </tr>\n",
       "    <tr>\n",
       "      <th>301</th>\n",
       "      <td>57</td>\n",
       "      <td>1</td>\n",
       "      <td>0</td>\n",
       "      <td>130</td>\n",
       "      <td>131</td>\n",
       "      <td>0</td>\n",
       "      <td>1</td>\n",
       "      <td>115</td>\n",
       "      <td>1</td>\n",
       "      <td>1.2</td>\n",
       "      <td>1</td>\n",
       "      <td>1</td>\n",
       "      <td>3</td>\n",
       "      <td>0</td>\n",
       "    </tr>\n",
       "    <tr>\n",
       "      <th>302</th>\n",
       "      <td>57</td>\n",
       "      <td>0</td>\n",
       "      <td>1</td>\n",
       "      <td>130</td>\n",
       "      <td>236</td>\n",
       "      <td>0</td>\n",
       "      <td>0</td>\n",
       "      <td>174</td>\n",
       "      <td>0</td>\n",
       "      <td>0.0</td>\n",
       "      <td>1</td>\n",
       "      <td>1</td>\n",
       "      <td>2</td>\n",
       "      <td>0</td>\n",
       "    </tr>\n",
       "  </tbody>\n",
       "</table>\n",
       "<p>302 rows × 14 columns</p>\n",
       "</div>"
      ],
      "text/plain": [
       "     age  sex  cp  trestbps  chol  fbs  restecg  thalach  exang  oldpeak  \\\n",
       "0     63    1   3       145   233    1        0      150      0      2.3   \n",
       "1     37    1   2       130   250    0        1      187      0      3.5   \n",
       "2     41    0   1       130   204    0        0      172      0      1.4   \n",
       "3     56    1   1       120   236    0        1      178      0      0.8   \n",
       "4     57    0   0       120   354    0        1      163      1      0.6   \n",
       "..   ...  ...  ..       ...   ...  ...      ...      ...    ...      ...   \n",
       "298   57    0   0       140   241    0        1      123      1      0.2   \n",
       "299   45    1   3       110   264    0        1      132      0      1.2   \n",
       "300   68    1   0       144   193    1        1      141      0      3.4   \n",
       "301   57    1   0       130   131    0        1      115      1      1.2   \n",
       "302   57    0   1       130   236    0        0      174      0      0.0   \n",
       "\n",
       "     slope  ca  thal  target  \n",
       "0        0   0     1       1  \n",
       "1        0   0     2       1  \n",
       "2        2   0     2       1  \n",
       "3        2   0     2       1  \n",
       "4        2   0     2       1  \n",
       "..     ...  ..   ...     ...  \n",
       "298      1   0     3       0  \n",
       "299      1   0     3       0  \n",
       "300      1   2     3       0  \n",
       "301      1   1     3       0  \n",
       "302      1   1     2       0  \n",
       "\n",
       "[302 rows x 14 columns]"
      ]
     },
     "execution_count": 4,
     "metadata": {},
     "output_type": "execute_result"
    }
   ],
   "source": [
    "data=data[~data.duplicated(keep='first')]\n",
    "data"
   ]
  },
  {
   "cell_type": "code",
   "execution_count": 10,
   "id": "48b5ddae",
   "metadata": {},
   "outputs": [
    {
     "data": {
      "text/plain": [
       "0"
      ]
     },
     "execution_count": 10,
     "metadata": {},
     "output_type": "execute_result"
    }
   ],
   "source": [
    "data.duplicated().sum()"
   ]
  },
  {
   "cell_type": "code",
   "execution_count": 11,
   "id": "0f398d87",
   "metadata": {},
   "outputs": [
    {
     "data": {
      "text/plain": [
       "Index(['age', 'sex', 'cp', 'trestbps', 'chol', 'fbs', 'restecg', 'thalach',\n",
       "       'exang', 'oldpeak', 'slope', 'ca', 'thal', 'target'],\n",
       "      dtype='object')"
      ]
     },
     "execution_count": 11,
     "metadata": {},
     "output_type": "execute_result"
    }
   ],
   "source": [
    "data.columns"
   ]
  },
  {
   "cell_type": "code",
   "execution_count": 12,
   "id": "9d41798f",
   "metadata": {},
   "outputs": [
    {
     "data": {
      "text/plain": [
       "<seaborn.axisgrid.FacetGrid at 0x20278c57f10>"
      ]
     },
     "execution_count": 12,
     "metadata": {},
     "output_type": "execute_result"
    },
    {
     "data": {
      "image/png": "[encoded data removed]",
      "text/plain": [
       "<Figure size 500x500 with 1 Axes>"
      ]
     },
     "metadata": {},
     "output_type": "display_data"
    }
   ],
   "source": [
    "sns.set_style('darkgrid')\n",
    "sns.displot(data['age'])"
   ]
  },
  {
   "cell_type": "code",
   "execution_count": 13,
   "id": "ee9945c6",
   "metadata": {},
   "outputs": [
    {
     "data": {
      "text/plain": [
       "<seaborn.axisgrid.FacetGrid at 0x202793f99d0>"
      ]
     },
     "execution_count": 13,
     "metadata": {},
     "output_type": "execute_result"
    },
    {
     "data": {
      "image/png": "[encoded data removed]",
      "text/plain": [
       "<Figure size 500x500 with 1 Axes>"
      ]
     },
     "metadata": {},
     "output_type": "display_data"
    }
   ],
   "source": [
    "sns.displot( data,x='trestbps')"
   ]
  },
  {
   "cell_type": "code",
   "execution_count": 14,
   "id": "f8152046",
   "metadata": {},
   "outputs": [
    {
     "data": {
      "text/plain": [
       "<AxesSubplot:xlabel='sex', ylabel='count'>"
      ]
     },
     "execution_count": 14,
     "metadata": {},
     "output_type": "execute_result"
    },
    {
     "data": {
      "image/png": "[encoded data removed]",
      "text/plain": [
       "<Figure size 640x480 with 1 Axes>"
      ]
     },
     "metadata": {},
     "output_type": "display_data"
    }
   ],
   "source": [
    "sns.countplot(data=data, x='sex')"
   ]
  },
  {
   "cell_type": "code",
   "execution_count": 15,
   "id": "60b8365a",
   "metadata": {},
   "outputs": [
    {
     "data": {
      "text/plain": [
       "<AxesSubplot:xlabel='target', ylabel='count'>"
      ]
     },
     "execution_count": 15,
     "metadata": {},
     "output_type": "execute_result"
    },
    {
     "data": {
      "image/png": "[encoded data removed]",
      "text/plain": [
       "<Figure size 640x480 with 1 Axes>"
      ]
     },
     "metadata": {},
     "output_type": "display_data"
    }
   ],
   "source": [
    "sns.countplot(data, x= 'target')"
   ]
  },
  {
   "cell_type": "code",
   "execution_count": 16,
   "id": "86e6f594",
   "metadata": {},
   "outputs": [
    {
     "data": {
      "text/plain": [
       "<AxesSubplot:>"
      ]
     },
     "execution_count": 16,
     "metadata": {},
     "output_type": "execute_result"
    },
    {
     "data": {
      "image/png": "[encoded data removed]",
      "text/plain": [
       "<Figure size 1000x1000 with 2 Axes>"
      ]
     },
     "metadata": {},
     "output_type": "display_data"
    }
   ],
   "source": [
    "corr=data.corr()\n",
    "plt.figure(figsize=(10,10))\n",
    "sns.heatmap(corr, annot=True, )"
   ]
  },
  {
   "cell_type": "code",
   "execution_count": 17,
   "id": "6d05445a",
   "metadata": {},
   "outputs": [
    {
     "data": {
      "text/plain": [
       "age              NaN\n",
       "sex              NaN\n",
       "cp          0.432080\n",
       "trestbps         NaN\n",
       "chol             NaN\n",
       "fbs              NaN\n",
       "restecg          NaN\n",
       "thalach     0.419955\n",
       "exang            NaN\n",
       "oldpeak          NaN\n",
       "slope       0.343940\n",
       "ca               NaN\n",
       "thal             NaN\n",
       "target      1.000000\n",
       "Name: target, dtype: float64"
      ]
     },
     "execution_count": 17,
     "metadata": {},
     "output_type": "execute_result"
    }
   ],
   "source": [
    "corr[corr > 0.3]['target']"
   ]
  },
  {
   "cell_type": "code",
   "execution_count": 18,
   "id": "e0b28bcf",
   "metadata": {},
   "outputs": [
    {
     "data": {
      "text/plain": [
       "<seaborn.axisgrid.FacetGrid at 0x2027a5bacd0>"
      ]
     },
     "execution_count": 18,
     "metadata": {},
     "output_type": "execute_result"
    },
    {
     "data": {
      "image/png": "[encoded data removed]",
      "text/plain": [
       "<Figure size 557.75x500 with 1 Axes>"
      ]
     },
     "metadata": {},
     "output_type": "display_data"
    }
   ],
   "source": [
    "sns.relplot(data, x='cp' , y='age' , hue='target')"
   ]
  },
  {
   "cell_type": "markdown",
   "id": "c7eac91f",
   "metadata": {},
   "source": [
    "# Spliting Train and Test Data"
   ]
  },
  {
   "cell_type": "code",
   "execution_count": 5,
   "id": "cc98cdd0",
   "metadata": {},
   "outputs": [
    {
     "data": {
      "text/plain": [
       "1    164\n",
       "0    138\n",
       "Name: target, dtype: int64"
      ]
     },
     "execution_count": 5,
     "metadata": {},
     "output_type": "execute_result"
    }
   ],
   "source": [
    "data['target'].value_counts()"
   ]
  },
  {
   "cell_type": "code",
   "execution_count": 6,
   "id": "492f8513",
   "metadata": {},
   "outputs": [],
   "source": [
    "x = data.iloc[:,:13]\n",
    "x\n",
    "y = data['target']"
   ]
  },
  {
   "cell_type": "code",
   "execution_count": 7,
   "id": "235697ca",
   "metadata": {},
   "outputs": [],
   "source": [
    "# Fixing imbalanced Data\n",
    "Oversampler = SMOTE(sampling_strategy='auto', k_neighbors=3, random_state=1215)\n",
    "xs, ys = Oversampler.fit_resample(x,y)"
   ]
  },
  {
   "cell_type": "code",
   "execution_count": 8,
   "id": "d7b5f918",
   "metadata": {},
   "outputs": [
    {
     "name": "stdout",
     "output_type": "stream",
     "text": [
      "(196, 13)\n",
      "(132, 13)\n",
      "(196,)\n",
      "(132,)\n"
     ]
    }
   ],
   "source": [
    "Xtrain, Xtest, Ytrain, Ytest = train_test_split(xs, ys, test_size = 0.4, random_state = 10)\n",
    "print(Xtrain.shape)\n",
    "print(Xtest.shape)\n",
    "print(Ytrain.shape)\n",
    "print(Ytest.shape)"
   ]
  },
  {
   "cell_type": "markdown",
   "id": "fea93de2",
   "metadata": {},
   "source": [
    "# Building the Pipeline | Cross validation | RandomForest"
   ]
  },
  {
   "cell_type": "code",
   "execution_count": 9,
   "id": "8a67f11f",
   "metadata": {},
   "outputs": [
    {
     "data": {
      "text/plain": [
       "[('Scaler', StandardScaler()), ('CLF', RandomForestClassifier())]"
      ]
     },
     "execution_count": 9,
     "metadata": {},
     "output_type": "execute_result"
    }
   ],
   "source": [
    "pipeline = Pipeline([\n",
    "    ('Scaler' , StandardScaler()),\n",
    "    ('CLF' , RandomForestClassifier())\n",
    "])\n",
    "pipeline.steps"
   ]
  },
  {
   "cell_type": "code",
   "execution_count": 10,
   "id": "d7c30555",
   "metadata": {},
   "outputs": [
    {
     "name": "stderr",
     "output_type": "stream",
     "text": [
      "[Parallel(n_jobs=1)]: Using backend SequentialBackend with 1 concurrent workers.\n",
      "[Parallel(n_jobs=1)]: Done   1 out of   1 | elapsed:    0.0s remaining:    0.0s\n"
     ]
    },
    {
     "name": "stdout",
     "output_type": "stream",
     "text": [
      "[CV] END ......................................., score=0.857 total time=   0.0s\n",
      "[CV] END ......................................., score=0.929 total time=   0.0s\n"
     ]
    },
    {
     "name": "stderr",
     "output_type": "stream",
     "text": [
      "[Parallel(n_jobs=1)]: Done   2 out of   2 | elapsed:    0.2s remaining:    0.0s\n",
      "[Parallel(n_jobs=1)]: Done   3 out of   3 | elapsed:    0.3s remaining:    0.0s\n"
     ]
    },
    {
     "name": "stdout",
     "output_type": "stream",
     "text": [
      "[CV] END ......................................., score=0.750 total time=   0.0s\n",
      "[CV] END ......................................., score=0.929 total time=   0.0s\n"
     ]
    },
    {
     "name": "stderr",
     "output_type": "stream",
     "text": [
      "[Parallel(n_jobs=1)]: Done   4 out of   4 | elapsed:    0.4s remaining:    0.0s\n"
     ]
    },
    {
     "name": "stdout",
     "output_type": "stream",
     "text": [
      "[CV] END ......................................., score=0.750 total time=   0.0s\n",
      "[CV] END ......................................., score=0.857 total time=   0.0s\n",
      "[CV] END ......................................., score=0.964 total time=   0.0s\n"
     ]
    },
    {
     "name": "stderr",
     "output_type": "stream",
     "text": [
      "[Parallel(n_jobs=1)]: Done   7 out of   7 | elapsed:    0.8s finished\n"
     ]
    },
    {
     "data": {
      "text/plain": [
       "{'fit_time': array([0.12599468, 0.12400007, 0.11500025, 0.11900115, 0.11399794,\n",
       "        0.1309998 , 0.12699962]),\n",
       " 'score_time': array([0.00799966, 0.00799942, 0.00799966, 0.00900102, 0.01199985,\n",
       "        0.00899935, 0.00899982]),\n",
       " 'test_score': array([0.85714286, 0.92857143, 0.75      , 0.92857143, 0.75      ,\n",
       "        0.85714286, 0.96428571])}"
      ]
     },
     "execution_count": 10,
     "metadata": {},
     "output_type": "execute_result"
    }
   ],
   "source": [
    "score = cross_validate(pipeline, Xtrain, Ytrain, verbose =5, cv=7)\n",
    "score"
   ]
  },
  {
   "cell_type": "code",
   "execution_count": 11,
   "id": "528630ca",
   "metadata": {},
   "outputs": [
    {
     "data": {
      "text/plain": [
       "0.8622448979591837"
      ]
     },
     "execution_count": 11,
     "metadata": {},
     "output_type": "execute_result"
    }
   ],
   "source": [
    "score['test_score'].mean()"
   ]
  },
  {
   "cell_type": "markdown",
   "id": "5e9130b0",
   "metadata": {},
   "source": [
    "# All Machine Learning Alghoritms in the pipeline"
   ]
  },
  {
   "cell_type": "code",
   "execution_count": 12,
   "id": "34becfbb",
   "metadata": {},
   "outputs": [
    {
     "name": "stdout",
     "output_type": "stream",
     "text": [
      "RandomForestClassifier() >>>>\n",
      "fit_time mean 0.11780033111572266\n",
      "score_time mean 0.007999944686889648\n",
      "test_score mean 0.8366666666666667\n",
      "--------------------------\n",
      "KNeighborsClassifier() >>>>\n",
      "fit_time mean 0.0030007362365722656\n",
      "score_time mean 0.0025998592376708985\n",
      "test_score mean 0.801025641025641\n",
      "--------------------------\n",
      "DecisionTreeClassifier() >>>>\n",
      "fit_time mean 0.003000640869140625\n",
      "score_time mean 0.0011993885040283204\n",
      "test_score mean 0.7852564102564102\n",
      "--------------------------\n",
      "SVC() >>>>\n",
      "fit_time mean 0.0035999774932861327\n",
      "score_time mean 0.001399993896484375\n",
      "test_score mean 0.8365384615384615\n",
      "--------------------------\n"
     ]
    }
   ],
   "source": [
    "CLFs = []\n",
    "CLFs.append(RandomForestClassifier())\n",
    "CLFs.append(KNeighborsClassifier())\n",
    "CLFs.append(DecisionTreeClassifier())\n",
    "CLFs.append(SVC())\n",
    "\n",
    "for classifier in CLFs:\n",
    "    pipeline.set_params(CLF = classifier)\n",
    "    scores = cross_validate(pipeline, Xtrain, Ytrain)\n",
    "    print(str(classifier) ,'>>>>')\n",
    "    for key, value in scores.items():\n",
    "        print(key, 'mean', value.mean())\n",
    "    print('--------------------------')"
   ]
  },
  {
   "cell_type": "markdown",
   "id": "cefc23f6",
   "metadata": {},
   "source": [
    "# Grid Search | Tuning | RandomForestClassifier"
   ]
  },
  {
   "cell_type": "code",
   "execution_count": 13,
   "id": "40078cee",
   "metadata": {},
   "outputs": [],
   "source": [
    "pipeline.set_params(CLF=RandomForestClassifier())\n",
    "pipeline.steps\n",
    "params = {\n",
    "    'CLF__n_estimators' : [40, 45, 50,53 ,55, 58,60, 65],\n",
    "    'CLF__criterion' : ['gini', 'entropy'],\n",
    "}\n",
    "GR_RF = GridSearchCV(pipeline, param_grid=params)"
   ]
  },
  {
   "cell_type": "code",
   "execution_count": 14,
   "id": "bcf915c3",
   "metadata": {},
   "outputs": [
    {
     "data": {
      "text/html": [
       "<style>#sk-container-id-1 {color: black;background-color: white;}#sk-container-id-1 pre{padding: 0;}#sk-container-id-1 div.sk-toggleable {background-color: white;}#sk-container-id-1 label.sk-toggleable__label {cursor: pointer;display: block;width: 100%;margin-bottom: 0;padding: 0.3em;box-sizing: border-box;text-align: center;}#sk-container-id-1 label.sk-toggleable__label-arrow:before {content: \"▸\";float: left;margin-right: 0.25em;color: #696969;}#sk-container-id-1 label.sk-toggleable__label-arrow:hover:before {color: black;}#sk-container-id-1 div.sk-estimator:hover label.sk-toggleable__label-arrow:before {color: black;}#sk-container-id-1 div.sk-toggleable__content {max-height: 0;max-width: 0;overflow: hidden;text-align: left;background-color: #f0f8ff;}#sk-container-id-1 div.sk-toggleable__content pre {margin: 0.2em;color: black;border-radius: 0.25em;background-color: #f0f8ff;}#sk-container-id-1 input.sk-toggleable__control:checked~div.sk-toggleable__content {max-height: 200px;max-width: 100%;overflow: auto;}#sk-container-id-1 input.sk-toggleable__control:checked~label.sk-toggleable__label-arrow:before {content: \"▾\";}#sk-container-id-1 div.sk-estimator input.sk-toggleable__control:checked~label.sk-toggleable__label {background-color: #d4ebff;}#sk-container-id-1 div.sk-label input.sk-toggleable__control:checked~label.sk-toggleable__label {background-color: #d4ebff;}#sk-container-id-1 input.sk-hidden--visually {border: 0;clip: rect(1px 1px 1px 1px);clip: rect(1px, 1px, 1px, 1px);height: 1px;margin: -1px;overflow: hidden;padding: 0;position: absolute;width: 1px;}#sk-container-id-1 div.sk-estimator {font-family: monospace;background-color: #f0f8ff;border: 1px dotted black;border-radius: 0.25em;box-sizing: border-box;margin-bottom: 0.5em;}#sk-container-id-1 div.sk-estimator:hover {background-color: #d4ebff;}#sk-container-id-1 div.sk-parallel-item::after {content: \"\";width: 100%;border-bottom: 1px solid gray;flex-grow: 1;}#sk-container-id-1 div.sk-label:hover label.sk-toggleable__label {background-color: #d4ebff;}#sk-container-id-1 div.sk-serial::before {content: \"\";position: absolute;border-left: 1px solid gray;box-sizing: border-box;top: 0;bottom: 0;left: 50%;z-index: 0;}#sk-container-id-1 div.sk-serial {display: flex;flex-direction: column;align-items: center;background-color: white;padding-right: 0.2em;padding-left: 0.2em;position: relative;}#sk-container-id-1 div.sk-item {position: relative;z-index: 1;}#sk-container-id-1 div.sk-parallel {display: flex;align-items: stretch;justify-content: center;background-color: white;position: relative;}#sk-container-id-1 div.sk-item::before, #sk-container-id-1 div.sk-parallel-item::before {content: \"\";position: absolute;border-left: 1px solid gray;box-sizing: border-box;top: 0;bottom: 0;left: 50%;z-index: -1;}#sk-container-id-1 div.sk-parallel-item {display: flex;flex-direction: column;z-index: 1;position: relative;background-color: white;}#sk-container-id-1 div.sk-parallel-item:first-child::after {align-self: flex-end;width: 50%;}#sk-container-id-1 div.sk-parallel-item:last-child::after {align-self: flex-start;width: 50%;}#sk-container-id-1 div.sk-parallel-item:only-child::after {width: 0;}#sk-container-id-1 div.sk-dashed-wrapped {border: 1px dashed gray;margin: 0 0.4em 0.5em 0.4em;box-sizing: border-box;padding-bottom: 0.4em;background-color: white;}#sk-container-id-1 div.sk-label label {font-family: monospace;font-weight: bold;display: inline-block;line-height: 1.2em;}#sk-container-id-1 div.sk-label-container {text-align: center;}#sk-container-id-1 div.sk-container {/* jupyter's `normalize.less` sets `[hidden] { display: none; }` but bootstrap.min.css set `[hidden] { display: none !important; }` so we also need the `!important` here to be able to override the default hidden behavior on the sphinx rendered scikit-learn.org. See: https://github.com/scikit-learn/scikit-learn/issues/21755 */display: inline-block !important;position: relative;}#sk-container-id-1 div.sk-text-repr-fallback {display: none;}</style><div id=\"sk-container-id-1\" class=\"sk-top-container\"><div class=\"sk-text-repr-fallback\"><pre>GridSearchCV(estimator=Pipeline(steps=[(&#x27;Scaler&#x27;, StandardScaler()),\n",
       "                                       (&#x27;CLF&#x27;, RandomForestClassifier())]),\n",
       "             param_grid={&#x27;CLF__criterion&#x27;: [&#x27;gini&#x27;, &#x27;entropy&#x27;],\n",
       "                         &#x27;CLF__n_estimators&#x27;: [40, 45, 50, 53, 55, 58, 60, 65]})</pre><b>In a Jupyter environment, please rerun this cell to show the HTML representation or trust the notebook. <br />On GitHub, the HTML representation is unable to render, please try loading this page with nbviewer.org.</b></div><div class=\"sk-container\" hidden><div class=\"sk-item sk-dashed-wrapped\"><div class=\"sk-label-container\"><div class=\"sk-label sk-toggleable\"><input class=\"sk-toggleable__control sk-hidden--visually\" id=\"sk-estimator-id-1\" type=\"checkbox\" ><label for=\"sk-estimator-id-1\" class=\"sk-toggleable__label sk-toggleable__label-arrow\">GridSearchCV</label><div class=\"sk-toggleable__content\"><pre>GridSearchCV(estimator=Pipeline(steps=[(&#x27;Scaler&#x27;, StandardScaler()),\n",
       "                                       (&#x27;CLF&#x27;, RandomForestClassifier())]),\n",
       "             param_grid={&#x27;CLF__criterion&#x27;: [&#x27;gini&#x27;, &#x27;entropy&#x27;],\n",
       "                         &#x27;CLF__n_estimators&#x27;: [40, 45, 50, 53, 55, 58, 60, 65]})</pre></div></div></div><div class=\"sk-parallel\"><div class=\"sk-parallel-item\"><div class=\"sk-item\"><div class=\"sk-label-container\"><div class=\"sk-label sk-toggleable\"><input class=\"sk-toggleable__control sk-hidden--visually\" id=\"sk-estimator-id-2\" type=\"checkbox\" ><label for=\"sk-estimator-id-2\" class=\"sk-toggleable__label sk-toggleable__label-arrow\">estimator: Pipeline</label><div class=\"sk-toggleable__content\"><pre>Pipeline(steps=[(&#x27;Scaler&#x27;, StandardScaler()),\n",
       "                (&#x27;CLF&#x27;, RandomForestClassifier())])</pre></div></div></div><div class=\"sk-serial\"><div class=\"sk-item\"><div class=\"sk-serial\"><div class=\"sk-item\"><div class=\"sk-estimator sk-toggleable\"><input class=\"sk-toggleable__control sk-hidden--visually\" id=\"sk-estimator-id-3\" type=\"checkbox\" ><label for=\"sk-estimator-id-3\" class=\"sk-toggleable__label sk-toggleable__label-arrow\">StandardScaler</label><div class=\"sk-toggleable__content\"><pre>StandardScaler()</pre></div></div></div><div class=\"sk-item\"><div class=\"sk-estimator sk-toggleable\"><input class=\"sk-toggleable__control sk-hidden--visually\" id=\"sk-estimator-id-4\" type=\"checkbox\" ><label for=\"sk-estimator-id-4\" class=\"sk-toggleable__label sk-toggleable__label-arrow\">RandomForestClassifier</label><div class=\"sk-toggleable__content\"><pre>RandomForestClassifier()</pre></div></div></div></div></div></div></div></div></div></div></div></div>"
      ],
      "text/plain": [
       "GridSearchCV(estimator=Pipeline(steps=[('Scaler', StandardScaler()),\n",
       "                                       ('CLF', RandomForestClassifier())]),\n",
       "             param_grid={'CLF__criterion': ['gini', 'entropy'],\n",
       "                         'CLF__n_estimators': [40, 45, 50, 53, 55, 58, 60, 65]})"
      ]
     },
     "execution_count": 14,
     "metadata": {},
     "output_type": "execute_result"
    }
   ],
   "source": [
    "GR_RF.fit(Xtrain, Ytrain)"
   ]
  },
  {
   "cell_type": "code",
   "execution_count": 15,
   "id": "3bd89f40",
   "metadata": {},
   "outputs": [
    {
     "data": {
      "text/plain": [
       "{'CLF__criterion': 'entropy', 'CLF__n_estimators': 55}"
      ]
     },
     "execution_count": 15,
     "metadata": {},
     "output_type": "execute_result"
    }
   ],
   "source": [
    "GR_RF.best_params_"
   ]
  },
  {
   "cell_type": "code",
   "execution_count": 16,
   "id": "2bb7703c",
   "metadata": {},
   "outputs": [
    {
     "data": {
      "text/plain": [
       "0.8619230769230768"
      ]
     },
     "execution_count": 16,
     "metadata": {},
     "output_type": "execute_result"
    }
   ],
   "source": [
    "GR_RF.best_score_"
   ]
  },
  {
   "cell_type": "code",
   "execution_count": 17,
   "id": "bda463e7",
   "metadata": {},
   "outputs": [
    {
     "data": {
      "text/html": [
       "<style>#sk-container-id-2 {color: black;background-color: white;}#sk-container-id-2 pre{padding: 0;}#sk-container-id-2 div.sk-toggleable {background-color: white;}#sk-container-id-2 label.sk-toggleable__label {cursor: pointer;display: block;width: 100%;margin-bottom: 0;padding: 0.3em;box-sizing: border-box;text-align: center;}#sk-container-id-2 label.sk-toggleable__label-arrow:before {content: \"▸\";float: left;margin-right: 0.25em;color: #696969;}#sk-container-id-2 label.sk-toggleable__label-arrow:hover:before {color: black;}#sk-container-id-2 div.sk-estimator:hover label.sk-toggleable__label-arrow:before {color: black;}#sk-container-id-2 div.sk-toggleable__content {max-height: 0;max-width: 0;overflow: hidden;text-align: left;background-color: #f0f8ff;}#sk-container-id-2 div.sk-toggleable__content pre {margin: 0.2em;color: black;border-radius: 0.25em;background-color: #f0f8ff;}#sk-container-id-2 input.sk-toggleable__control:checked~div.sk-toggleable__content {max-height: 200px;max-width: 100%;overflow: auto;}#sk-container-id-2 input.sk-toggleable__control:checked~label.sk-toggleable__label-arrow:before {content: \"▾\";}#sk-container-id-2 div.sk-estimator input.sk-toggleable__control:checked~label.sk-toggleable__label {background-color: #d4ebff;}#sk-container-id-2 div.sk-label input.sk-toggleable__control:checked~label.sk-toggleable__label {background-color: #d4ebff;}#sk-container-id-2 input.sk-hidden--visually {border: 0;clip: rect(1px 1px 1px 1px);clip: rect(1px, 1px, 1px, 1px);height: 1px;margin: -1px;overflow: hidden;padding: 0;position: absolute;width: 1px;}#sk-container-id-2 div.sk-estimator {font-family: monospace;background-color: #f0f8ff;border: 1px dotted black;border-radius: 0.25em;box-sizing: border-box;margin-bottom: 0.5em;}#sk-container-id-2 div.sk-estimator:hover {background-color: #d4ebff;}#sk-container-id-2 div.sk-parallel-item::after {content: \"\";width: 100%;border-bottom: 1px solid gray;flex-grow: 1;}#sk-container-id-2 div.sk-label:hover label.sk-toggleable__label {background-color: #d4ebff;}#sk-container-id-2 div.sk-serial::before {content: \"\";position: absolute;border-left: 1px solid gray;box-sizing: border-box;top: 0;bottom: 0;left: 50%;z-index: 0;}#sk-container-id-2 div.sk-serial {display: flex;flex-direction: column;align-items: center;background-color: white;padding-right: 0.2em;padding-left: 0.2em;position: relative;}#sk-container-id-2 div.sk-item {position: relative;z-index: 1;}#sk-container-id-2 div.sk-parallel {display: flex;align-items: stretch;justify-content: center;background-color: white;position: relative;}#sk-container-id-2 div.sk-item::before, #sk-container-id-2 div.sk-parallel-item::before {content: \"\";position: absolute;border-left: 1px solid gray;box-sizing: border-box;top: 0;bottom: 0;left: 50%;z-index: -1;}#sk-container-id-2 div.sk-parallel-item {display: flex;flex-direction: column;z-index: 1;position: relative;background-color: white;}#sk-container-id-2 div.sk-parallel-item:first-child::after {align-self: flex-end;width: 50%;}#sk-container-id-2 div.sk-parallel-item:last-child::after {align-self: flex-start;width: 50%;}#sk-container-id-2 div.sk-parallel-item:only-child::after {width: 0;}#sk-container-id-2 div.sk-dashed-wrapped {border: 1px dashed gray;margin: 0 0.4em 0.5em 0.4em;box-sizing: border-box;padding-bottom: 0.4em;background-color: white;}#sk-container-id-2 div.sk-label label {font-family: monospace;font-weight: bold;display: inline-block;line-height: 1.2em;}#sk-container-id-2 div.sk-label-container {text-align: center;}#sk-container-id-2 div.sk-container {/* jupyter's `normalize.less` sets `[hidden] { display: none; }` but bootstrap.min.css set `[hidden] { display: none !important; }` so we also need the `!important` here to be able to override the default hidden behavior on the sphinx rendered scikit-learn.org. See: https://github.com/scikit-learn/scikit-learn/issues/21755 */display: inline-block !important;position: relative;}#sk-container-id-2 div.sk-text-repr-fallback {display: none;}</style><div id=\"sk-container-id-2\" class=\"sk-top-container\"><div class=\"sk-text-repr-fallback\"><pre>Pipeline(steps=[(&#x27;Scaler&#x27;, StandardScaler()),\n",
       "                (&#x27;CLF&#x27;,\n",
       "                 RandomForestClassifier(criterion=&#x27;entropy&#x27;, n_estimators=55))])</pre><b>In a Jupyter environment, please rerun this cell to show the HTML representation or trust the notebook. <br />On GitHub, the HTML representation is unable to render, please try loading this page with nbviewer.org.</b></div><div class=\"sk-container\" hidden><div class=\"sk-item sk-dashed-wrapped\"><div class=\"sk-label-container\"><div class=\"sk-label sk-toggleable\"><input class=\"sk-toggleable__control sk-hidden--visually\" id=\"sk-estimator-id-5\" type=\"checkbox\" ><label for=\"sk-estimator-id-5\" class=\"sk-toggleable__label sk-toggleable__label-arrow\">Pipeline</label><div class=\"sk-toggleable__content\"><pre>Pipeline(steps=[(&#x27;Scaler&#x27;, StandardScaler()),\n",
       "                (&#x27;CLF&#x27;,\n",
       "                 RandomForestClassifier(criterion=&#x27;entropy&#x27;, n_estimators=55))])</pre></div></div></div><div class=\"sk-serial\"><div class=\"sk-item\"><div class=\"sk-estimator sk-toggleable\"><input class=\"sk-toggleable__control sk-hidden--visually\" id=\"sk-estimator-id-6\" type=\"checkbox\" ><label for=\"sk-estimator-id-6\" class=\"sk-toggleable__label sk-toggleable__label-arrow\">StandardScaler</label><div class=\"sk-toggleable__content\"><pre>StandardScaler()</pre></div></div></div><div class=\"sk-item\"><div class=\"sk-estimator sk-toggleable\"><input class=\"sk-toggleable__control sk-hidden--visually\" id=\"sk-estimator-id-7\" type=\"checkbox\" ><label for=\"sk-estimator-id-7\" class=\"sk-toggleable__label sk-toggleable__label-arrow\">RandomForestClassifier</label><div class=\"sk-toggleable__content\"><pre>RandomForestClassifier(criterion=&#x27;entropy&#x27;, n_estimators=55)</pre></div></div></div></div></div></div></div>"
      ],
      "text/plain": [
       "Pipeline(steps=[('Scaler', StandardScaler()),\n",
       "                ('CLF',\n",
       "                 RandomForestClassifier(criterion='entropy', n_estimators=55))])"
      ]
     },
     "execution_count": 17,
     "metadata": {},
     "output_type": "execute_result"
    }
   ],
   "source": [
    "GR_RF.best_estimator_"
   ]
  },
  {
   "cell_type": "code",
   "execution_count": 18,
   "id": "cc2a61b9",
   "metadata": {},
   "outputs": [],
   "source": [
    "Ypred = GR_RF.predict(Xtest)"
   ]
  },
  {
   "cell_type": "code",
   "execution_count": 19,
   "id": "3635b5ee",
   "metadata": {},
   "outputs": [
    {
     "name": "stdout",
     "output_type": "stream",
     "text": [
      "              precision    recall  f1-score   support\n",
      "\n",
      "           0       0.83      0.78      0.80        67\n",
      "           1       0.78      0.83      0.81        65\n",
      "\n",
      "    accuracy                           0.80       132\n",
      "   macro avg       0.80      0.80      0.80       132\n",
      "weighted avg       0.80      0.80      0.80       132\n",
      "\n"
     ]
    }
   ],
   "source": [
    "print(classification_report(Ytest, Ypred))"
   ]
  },
  {
   "cell_type": "markdown",
   "id": "de4d60a7",
   "metadata": {},
   "source": [
    "# Best Model (SVM) | Grid search"
   ]
  },
  {
   "cell_type": "code",
   "execution_count": 20,
   "id": "1282dbe3",
   "metadata": {
    "scrolled": true
   },
   "outputs": [
    {
     "name": "stdout",
     "output_type": "stream",
     "text": [
      "Fitting 5 folds for each of 100 candidates, totalling 500 fits\n",
      "[CV 1/5] END .......CLF__C=0.1, CLF__kernel=rbf;, score=0.825 total time=   0.0s\n",
      "[CV 2/5] END .......CLF__C=0.1, CLF__kernel=rbf;, score=0.846 total time=   0.0s\n",
      "[CV 3/5] END .......CLF__C=0.1, CLF__kernel=rbf;, score=0.795 total time=   0.0s\n",
      "[CV 4/5] END .......CLF__C=0.1, CLF__kernel=rbf;, score=0.872 total time=   0.0s\n",
      "[CV 5/5] END .......CLF__C=0.1, CLF__kernel=rbf;, score=0.846 total time=   0.0s\n",
      "[CV 1/5] END ....CLF__C=0.1, CLF__kernel=linear;, score=0.800 total time=   0.0s\n",
      "[CV 2/5] END ....CLF__C=0.1, CLF__kernel=linear;, score=0.821 total time=   0.0s\n",
      "[CV 3/5] END ....CLF__C=0.1, CLF__kernel=linear;, score=0.897 total time=   0.0s\n",
      "[CV 4/5] END ....CLF__C=0.1, CLF__kernel=linear;, score=0.897 total time=   0.0s\n",
      "[CV 5/5] END ....CLF__C=0.1, CLF__kernel=linear;, score=0.846 total time=   0.0s\n",
      "[CV 1/5] END CLF__C=0.10816326530612246, CLF__kernel=rbf;, score=0.800 total time=   0.0s\n",
      "[CV 2/5] END CLF__C=0.10816326530612246, CLF__kernel=rbf;, score=0.821 total time=   0.0s\n",
      "[CV 3/5] END CLF__C=0.10816326530612246, CLF__kernel=rbf;, score=0.795 total time=   0.0s\n",
      "[CV 4/5] END CLF__C=0.10816326530612246, CLF__kernel=rbf;, score=0.846 total time=   0.0s\n",
      "[CV 5/5] END CLF__C=0.10816326530612246, CLF__kernel=rbf;, score=0.872 total time=   0.0s\n",
      "[CV 1/5] END CLF__C=0.10816326530612246, CLF__kernel=linear;, score=0.800 total time=   0.0s\n",
      "[CV 2/5] END CLF__C=0.10816326530612246, CLF__kernel=linear;, score=0.821 total time=   0.0s\n",
      "[CV 3/5] END CLF__C=0.10816326530612246, CLF__kernel=linear;, score=0.897 total time=   0.0s\n",
      "[CV 4/5] END CLF__C=0.10816326530612246, CLF__kernel=linear;, score=0.897 total time=   0.0s\n",
      "[CV 5/5] END CLF__C=0.10816326530612246, CLF__kernel=linear;, score=0.846 total time=   0.0s\n",
      "[CV 1/5] END CLF__C=0.1163265306122449, CLF__kernel=rbf;, score=0.800 total time=   0.0s\n",
      "[CV 2/5] END CLF__C=0.1163265306122449, CLF__kernel=rbf;, score=0.846 total time=   0.0s\n",
      "[CV 3/5] END CLF__C=0.1163265306122449, CLF__kernel=rbf;, score=0.821 total time=   0.0s\n",
      "[CV 4/5] END CLF__C=0.1163265306122449, CLF__kernel=rbf;, score=0.846 total time=   0.0s\n",
      "[CV 5/5] END CLF__C=0.1163265306122449, CLF__kernel=rbf;, score=0.872 total time=   0.0s\n",
      "[CV 1/5] END CLF__C=0.1163265306122449, CLF__kernel=linear;, score=0.825 total time=   0.0s\n",
      "[CV 2/5] END CLF__C=0.1163265306122449, CLF__kernel=linear;, score=0.821 total time=   0.0s\n",
      "[CV 3/5] END CLF__C=0.1163265306122449, CLF__kernel=linear;, score=0.897 total time=   0.0s\n",
      "[CV 4/5] END CLF__C=0.1163265306122449, CLF__kernel=linear;, score=0.897 total time=   0.0s\n",
      "[CV 5/5] END CLF__C=0.1163265306122449, CLF__kernel=linear;, score=0.846 total time=   0.0s\n",
      "[CV 1/5] END CLF__C=0.12448979591836735, CLF__kernel=rbf;, score=0.825 total time=   0.0s\n",
      "[CV 2/5] END CLF__C=0.12448979591836735, CLF__kernel=rbf;, score=0.846 total time=   0.0s\n",
      "[CV 3/5] END CLF__C=0.12448979591836735, CLF__kernel=rbf;, score=0.821 total time=   0.0s\n",
      "[CV 4/5] END CLF__C=0.12448979591836735, CLF__kernel=rbf;, score=0.821 total time=   0.0s\n",
      "[CV 5/5] END CLF__C=0.12448979591836735, CLF__kernel=rbf;, score=0.872 total time=   0.0s\n",
      "[CV 1/5] END CLF__C=0.12448979591836735, CLF__kernel=linear;, score=0.825 total time=   0.0s\n",
      "[CV 2/5] END CLF__C=0.12448979591836735, CLF__kernel=linear;, score=0.821 total time=   0.0s\n",
      "[CV 3/5] END CLF__C=0.12448979591836735, CLF__kernel=linear;, score=0.897 total time=   0.0s\n",
      "[CV 4/5] END CLF__C=0.12448979591836735, CLF__kernel=linear;, score=0.897 total time=   0.0s\n",
      "[CV 5/5] END CLF__C=0.12448979591836735, CLF__kernel=linear;, score=0.846 total time=   0.0s\n",
      "[CV 1/5] END CLF__C=0.1326530612244898, CLF__kernel=rbf;, score=0.825 total time=   0.0s\n",
      "[CV 2/5] END CLF__C=0.1326530612244898, CLF__kernel=rbf;, score=0.821 total time=   0.0s\n",
      "[CV 3/5] END CLF__C=0.1326530612244898, CLF__kernel=rbf;, score=0.795 total time=   0.0s\n",
      "[CV 4/5] END CLF__C=0.1326530612244898, CLF__kernel=rbf;, score=0.821 total time=   0.0s\n",
      "[CV 5/5] END CLF__C=0.1326530612244898, CLF__kernel=rbf;, score=0.897 total time=   0.0s\n",
      "[CV 1/5] END CLF__C=0.1326530612244898, CLF__kernel=linear;, score=0.825 total time=   0.0s\n",
      "[CV 2/5] END CLF__C=0.1326530612244898, CLF__kernel=linear;, score=0.821 total time=   0.0s\n",
      "[CV 3/5] END CLF__C=0.1326530612244898, CLF__kernel=linear;, score=0.897 total time=   0.0s\n",
      "[CV 4/5] END CLF__C=0.1326530612244898, CLF__kernel=linear;, score=0.897 total time=   0.0s\n",
      "[CV 5/5] END CLF__C=0.1326530612244898, CLF__kernel=linear;, score=0.846 total time=   0.0s\n",
      "[CV 1/5] END CLF__C=0.14081632653061227, CLF__kernel=rbf;, score=0.825 total time=   0.0s\n",
      "[CV 2/5] END CLF__C=0.14081632653061227, CLF__kernel=rbf;, score=0.821 total time=   0.0s\n",
      "[CV 3/5] END CLF__C=0.14081632653061227, CLF__kernel=rbf;, score=0.821 total time=   0.0s\n",
      "[CV 4/5] END CLF__C=0.14081632653061227, CLF__kernel=rbf;, score=0.821 total time=   0.0s\n",
      "[CV 5/5] END CLF__C=0.14081632653061227, CLF__kernel=rbf;, score=0.897 total time=   0.0s\n",
      "[CV 1/5] END CLF__C=0.14081632653061227, CLF__kernel=linear;, score=0.825 total time=   0.0s\n",
      "[CV 2/5] END CLF__C=0.14081632653061227, CLF__kernel=linear;, score=0.821 total time=   0.0s\n",
      "[CV 3/5] END CLF__C=0.14081632653061227, CLF__kernel=linear;, score=0.897 total time=   0.0s\n",
      "[CV 4/5] END CLF__C=0.14081632653061227, CLF__kernel=linear;, score=0.897 total time=   0.0s\n",
      "[CV 5/5] END CLF__C=0.14081632653061227, CLF__kernel=linear;, score=0.846 total time=   0.0s\n",
      "[CV 1/5] END CLF__C=0.1489795918367347, CLF__kernel=rbf;, score=0.825 total time=   0.0s\n",
      "[CV 2/5] END CLF__C=0.1489795918367347, CLF__kernel=rbf;, score=0.821 total time=   0.0s\n",
      "[CV 3/5] END CLF__C=0.1489795918367347, CLF__kernel=rbf;, score=0.821 total time=   0.0s\n",
      "[CV 4/5] END CLF__C=0.1489795918367347, CLF__kernel=rbf;, score=0.821 total time=   0.0s\n",
      "[CV 5/5] END CLF__C=0.1489795918367347, CLF__kernel=rbf;, score=0.897 total time=   0.0s\n",
      "[CV 1/5] END CLF__C=0.1489795918367347, CLF__kernel=linear;, score=0.825 total time=   0.0s\n",
      "[CV 2/5] END CLF__C=0.1489795918367347, CLF__kernel=linear;, score=0.821 total time=   0.0s\n",
      "[CV 3/5] END CLF__C=0.1489795918367347, CLF__kernel=linear;, score=0.897 total time=   0.0s\n",
      "[CV 4/5] END CLF__C=0.1489795918367347, CLF__kernel=linear;, score=0.872 total time=   0.0s\n",
      "[CV 5/5] END CLF__C=0.1489795918367347, CLF__kernel=linear;, score=0.846 total time=   0.0s\n",
      "[CV 1/5] END CLF__C=0.15714285714285714, CLF__kernel=rbf;, score=0.825 total time=   0.0s\n",
      "[CV 2/5] END CLF__C=0.15714285714285714, CLF__kernel=rbf;, score=0.821 total time=   0.0s\n",
      "[CV 3/5] END CLF__C=0.15714285714285714, CLF__kernel=rbf;, score=0.821 total time=   0.0s\n",
      "[CV 4/5] END CLF__C=0.15714285714285714, CLF__kernel=rbf;, score=0.821 total time=   0.0s\n",
      "[CV 5/5] END CLF__C=0.15714285714285714, CLF__kernel=rbf;, score=0.897 total time=   0.0s\n",
      "[CV 1/5] END CLF__C=0.15714285714285714, CLF__kernel=linear;, score=0.825 total time=   0.0s\n",
      "[CV 2/5] END CLF__C=0.15714285714285714, CLF__kernel=linear;, score=0.821 total time=   0.0s\n",
      "[CV 3/5] END CLF__C=0.15714285714285714, CLF__kernel=linear;, score=0.897 total time=   0.0s\n",
      "[CV 4/5] END CLF__C=0.15714285714285714, CLF__kernel=linear;, score=0.872 total time=   0.0s\n",
      "[CV 5/5] END CLF__C=0.15714285714285714, CLF__kernel=linear;, score=0.846 total time=   0.0s\n",
      "[CV 1/5] END CLF__C=0.1653061224489796, CLF__kernel=rbf;, score=0.825 total time=   0.0s\n",
      "[CV 2/5] END CLF__C=0.1653061224489796, CLF__kernel=rbf;, score=0.821 total time=   0.0s\n",
      "[CV 3/5] END CLF__C=0.1653061224489796, CLF__kernel=rbf;, score=0.821 total time=   0.0s\n",
      "[CV 4/5] END CLF__C=0.1653061224489796, CLF__kernel=rbf;, score=0.821 total time=   0.0s\n",
      "[CV 5/5] END CLF__C=0.1653061224489796, CLF__kernel=rbf;, score=0.897 total time=   0.0s\n",
      "[CV 1/5] END CLF__C=0.1653061224489796, CLF__kernel=linear;, score=0.825 total time=   0.0s\n",
      "[CV 2/5] END CLF__C=0.1653061224489796, CLF__kernel=linear;, score=0.821 total time=   0.0s\n",
      "[CV 3/5] END CLF__C=0.1653061224489796, CLF__kernel=linear;, score=0.897 total time=   0.0s\n",
      "[CV 4/5] END CLF__C=0.1653061224489796, CLF__kernel=linear;, score=0.897 total time=   0.0s\n",
      "[CV 5/5] END CLF__C=0.1653061224489796, CLF__kernel=linear;, score=0.846 total time=   0.0s\n",
      "[CV 1/5] END CLF__C=0.17346938775510207, CLF__kernel=rbf;, score=0.825 total time=   0.0s\n",
      "[CV 2/5] END CLF__C=0.17346938775510207, CLF__kernel=rbf;, score=0.821 total time=   0.0s\n",
      "[CV 3/5] END CLF__C=0.17346938775510207, CLF__kernel=rbf;, score=0.821 total time=   0.0s\n",
      "[CV 4/5] END CLF__C=0.17346938775510207, CLF__kernel=rbf;, score=0.821 total time=   0.0s\n",
      "[CV 5/5] END CLF__C=0.17346938775510207, CLF__kernel=rbf;, score=0.897 total time=   0.0s\n",
      "[CV 1/5] END CLF__C=0.17346938775510207, CLF__kernel=linear;, score=0.825 total time=   0.0s\n",
      "[CV 2/5] END CLF__C=0.17346938775510207, CLF__kernel=linear;, score=0.821 total time=   0.0s\n",
      "[CV 3/5] END CLF__C=0.17346938775510207, CLF__kernel=linear;, score=0.897 total time=   0.0s\n",
      "[CV 4/5] END CLF__C=0.17346938775510207, CLF__kernel=linear;, score=0.897 total time=   0.0s\n",
      "[CV 5/5] END CLF__C=0.17346938775510207, CLF__kernel=linear;, score=0.821 total time=   0.0s\n",
      "[CV 1/5] END CLF__C=0.1816326530612245, CLF__kernel=rbf;, score=0.825 total time=   0.0s\n"
     ]
    },
    {
     "name": "stdout",
     "output_type": "stream",
     "text": [
      "[CV 2/5] END CLF__C=0.1816326530612245, CLF__kernel=rbf;, score=0.795 total time=   0.0s\n",
      "[CV 3/5] END CLF__C=0.1816326530612245, CLF__kernel=rbf;, score=0.821 total time=   0.0s\n",
      "[CV 4/5] END CLF__C=0.1816326530612245, CLF__kernel=rbf;, score=0.821 total time=   0.0s\n",
      "[CV 5/5] END CLF__C=0.1816326530612245, CLF__kernel=rbf;, score=0.897 total time=   0.0s\n",
      "[CV 1/5] END CLF__C=0.1816326530612245, CLF__kernel=linear;, score=0.825 total time=   0.0s\n",
      "[CV 2/5] END CLF__C=0.1816326530612245, CLF__kernel=linear;, score=0.821 total time=   0.0s\n",
      "[CV 3/5] END CLF__C=0.1816326530612245, CLF__kernel=linear;, score=0.897 total time=   0.0s\n",
      "[CV 4/5] END CLF__C=0.1816326530612245, CLF__kernel=linear;, score=0.897 total time=   0.0s\n",
      "[CV 5/5] END CLF__C=0.1816326530612245, CLF__kernel=linear;, score=0.821 total time=   0.0s\n",
      "[CV 1/5] END CLF__C=0.18979591836734694, CLF__kernel=rbf;, score=0.825 total time=   0.0s\n",
      "[CV 2/5] END CLF__C=0.18979591836734694, CLF__kernel=rbf;, score=0.821 total time=   0.0s\n",
      "[CV 3/5] END CLF__C=0.18979591836734694, CLF__kernel=rbf;, score=0.821 total time=   0.0s\n",
      "[CV 4/5] END CLF__C=0.18979591836734694, CLF__kernel=rbf;, score=0.821 total time=   0.0s\n",
      "[CV 5/5] END CLF__C=0.18979591836734694, CLF__kernel=rbf;, score=0.897 total time=   0.0s\n",
      "[CV 1/5] END CLF__C=0.18979591836734694, CLF__kernel=linear;, score=0.825 total time=   0.0s\n",
      "[CV 2/5] END CLF__C=0.18979591836734694, CLF__kernel=linear;, score=0.821 total time=   0.0s\n",
      "[CV 3/5] END CLF__C=0.18979591836734694, CLF__kernel=linear;, score=0.897 total time=   0.0s\n",
      "[CV 4/5] END CLF__C=0.18979591836734694, CLF__kernel=linear;, score=0.897 total time=   0.0s\n",
      "[CV 5/5] END CLF__C=0.18979591836734694, CLF__kernel=linear;, score=0.821 total time=   0.0s\n",
      "[CV 1/5] END CLF__C=0.1979591836734694, CLF__kernel=rbf;, score=0.825 total time=   0.0s\n",
      "[CV 2/5] END CLF__C=0.1979591836734694, CLF__kernel=rbf;, score=0.821 total time=   0.0s\n",
      "[CV 3/5] END CLF__C=0.1979591836734694, CLF__kernel=rbf;, score=0.821 total time=   0.0s\n",
      "[CV 4/5] END CLF__C=0.1979591836734694, CLF__kernel=rbf;, score=0.821 total time=   0.0s\n",
      "[CV 5/5] END CLF__C=0.1979591836734694, CLF__kernel=rbf;, score=0.872 total time=   0.0s\n",
      "[CV 1/5] END CLF__C=0.1979591836734694, CLF__kernel=linear;, score=0.825 total time=   0.0s\n",
      "[CV 2/5] END CLF__C=0.1979591836734694, CLF__kernel=linear;, score=0.821 total time=   0.0s\n",
      "[CV 3/5] END CLF__C=0.1979591836734694, CLF__kernel=linear;, score=0.897 total time=   0.0s\n",
      "[CV 4/5] END CLF__C=0.1979591836734694, CLF__kernel=linear;, score=0.897 total time=   0.0s\n",
      "[CV 5/5] END CLF__C=0.1979591836734694, CLF__kernel=linear;, score=0.821 total time=   0.0s\n",
      "[CV 1/5] END CLF__C=0.20612244897959187, CLF__kernel=rbf;, score=0.825 total time=   0.0s\n",
      "[CV 2/5] END CLF__C=0.20612244897959187, CLF__kernel=rbf;, score=0.821 total time=   0.0s\n",
      "[CV 3/5] END CLF__C=0.20612244897959187, CLF__kernel=rbf;, score=0.821 total time=   0.0s\n",
      "[CV 4/5] END CLF__C=0.20612244897959187, CLF__kernel=rbf;, score=0.846 total time=   0.0s\n",
      "[CV 5/5] END CLF__C=0.20612244897959187, CLF__kernel=rbf;, score=0.872 total time=   0.0s\n",
      "[CV 1/5] END CLF__C=0.20612244897959187, CLF__kernel=linear;, score=0.825 total time=   0.0s\n",
      "[CV 2/5] END CLF__C=0.20612244897959187, CLF__kernel=linear;, score=0.821 total time=   0.0s\n",
      "[CV 3/5] END CLF__C=0.20612244897959187, CLF__kernel=linear;, score=0.897 total time=   0.0s\n",
      "[CV 4/5] END CLF__C=0.20612244897959187, CLF__kernel=linear;, score=0.897 total time=   0.0s\n",
      "[CV 5/5] END CLF__C=0.20612244897959187, CLF__kernel=linear;, score=0.821 total time=   0.0s\n",
      "[CV 1/5] END CLF__C=0.2142857142857143, CLF__kernel=rbf;, score=0.825 total time=   0.0s\n",
      "[CV 2/5] END CLF__C=0.2142857142857143, CLF__kernel=rbf;, score=0.821 total time=   0.0s\n",
      "[CV 3/5] END CLF__C=0.2142857142857143, CLF__kernel=rbf;, score=0.846 total time=   0.0s\n",
      "[CV 4/5] END CLF__C=0.2142857142857143, CLF__kernel=rbf;, score=0.846 total time=   0.0s\n",
      "[CV 5/5] END CLF__C=0.2142857142857143, CLF__kernel=rbf;, score=0.872 total time=   0.0s\n",
      "[CV 1/5] END CLF__C=0.2142857142857143, CLF__kernel=linear;, score=0.825 total time=   0.0s\n",
      "[CV 2/5] END CLF__C=0.2142857142857143, CLF__kernel=linear;, score=0.821 total time=   0.0s\n",
      "[CV 3/5] END CLF__C=0.2142857142857143, CLF__kernel=linear;, score=0.897 total time=   0.0s\n",
      "[CV 4/5] END CLF__C=0.2142857142857143, CLF__kernel=linear;, score=0.897 total time=   0.0s\n",
      "[CV 5/5] END CLF__C=0.2142857142857143, CLF__kernel=linear;, score=0.821 total time=   0.0s\n",
      "[CV 1/5] END CLF__C=0.22244897959183674, CLF__kernel=rbf;, score=0.825 total time=   0.0s\n",
      "[CV 2/5] END CLF__C=0.22244897959183674, CLF__kernel=rbf;, score=0.821 total time=   0.0s\n",
      "[CV 3/5] END CLF__C=0.22244897959183674, CLF__kernel=rbf;, score=0.846 total time=   0.0s\n",
      "[CV 4/5] END CLF__C=0.22244897959183674, CLF__kernel=rbf;, score=0.872 total time=   0.0s\n",
      "[CV 5/5] END CLF__C=0.22244897959183674, CLF__kernel=rbf;, score=0.872 total time=   0.0s\n",
      "[CV 1/5] END CLF__C=0.22244897959183674, CLF__kernel=linear;, score=0.825 total time=   0.0s\n",
      "[CV 2/5] END CLF__C=0.22244897959183674, CLF__kernel=linear;, score=0.821 total time=   0.0s\n",
      "[CV 3/5] END CLF__C=0.22244897959183674, CLF__kernel=linear;, score=0.897 total time=   0.0s\n",
      "[CV 4/5] END CLF__C=0.22244897959183674, CLF__kernel=linear;, score=0.897 total time=   0.0s\n",
      "[CV 5/5] END CLF__C=0.22244897959183674, CLF__kernel=linear;, score=0.821 total time=   0.0s\n",
      "[CV 1/5] END CLF__C=0.2306122448979592, CLF__kernel=rbf;, score=0.825 total time=   0.0s\n",
      "[CV 2/5] END CLF__C=0.2306122448979592, CLF__kernel=rbf;, score=0.821 total time=   0.0s\n",
      "[CV 3/5] END CLF__C=0.2306122448979592, CLF__kernel=rbf;, score=0.846 total time=   0.0s\n",
      "[CV 4/5] END CLF__C=0.2306122448979592, CLF__kernel=rbf;, score=0.872 total time=   0.0s\n",
      "[CV 5/5] END CLF__C=0.2306122448979592, CLF__kernel=rbf;, score=0.872 total time=   0.0s\n",
      "[CV 1/5] END CLF__C=0.2306122448979592, CLF__kernel=linear;, score=0.825 total time=   0.0s\n",
      "[CV 2/5] END CLF__C=0.2306122448979592, CLF__kernel=linear;, score=0.821 total time=   0.0s\n",
      "[CV 3/5] END CLF__C=0.2306122448979592, CLF__kernel=linear;, score=0.897 total time=   0.0s\n",
      "[CV 4/5] END CLF__C=0.2306122448979592, CLF__kernel=linear;, score=0.897 total time=   0.0s\n",
      "[CV 5/5] END CLF__C=0.2306122448979592, CLF__kernel=linear;, score=0.821 total time=   0.0s\n",
      "[CV 1/5] END CLF__C=0.23877551020408164, CLF__kernel=rbf;, score=0.825 total time=   0.0s\n",
      "[CV 2/5] END CLF__C=0.23877551020408164, CLF__kernel=rbf;, score=0.821 total time=   0.0s\n",
      "[CV 3/5] END CLF__C=0.23877551020408164, CLF__kernel=rbf;, score=0.846 total time=   0.0s\n",
      "[CV 4/5] END CLF__C=0.23877551020408164, CLF__kernel=rbf;, score=0.872 total time=   0.0s\n",
      "[CV 5/5] END CLF__C=0.23877551020408164, CLF__kernel=rbf;, score=0.872 total time=   0.0s\n",
      "[CV 1/5] END CLF__C=0.23877551020408164, CLF__kernel=linear;, score=0.825 total time=   0.0s\n",
      "[CV 2/5] END CLF__C=0.23877551020408164, CLF__kernel=linear;, score=0.821 total time=   0.0s\n",
      "[CV 3/5] END CLF__C=0.23877551020408164, CLF__kernel=linear;, score=0.897 total time=   0.0s\n",
      "[CV 4/5] END CLF__C=0.23877551020408164, CLF__kernel=linear;, score=0.897 total time=   0.0s\n",
      "[CV 5/5] END CLF__C=0.23877551020408164, CLF__kernel=linear;, score=0.795 total time=   0.0s\n",
      "[CV 1/5] END CLF__C=0.2469387755102041, CLF__kernel=rbf;, score=0.825 total time=   0.0s\n",
      "[CV 2/5] END CLF__C=0.2469387755102041, CLF__kernel=rbf;, score=0.821 total time=   0.0s\n",
      "[CV 3/5] END CLF__C=0.2469387755102041, CLF__kernel=rbf;, score=0.846 total time=   0.0s\n",
      "[CV 4/5] END CLF__C=0.2469387755102041, CLF__kernel=rbf;, score=0.872 total time=   0.0s\n",
      "[CV 5/5] END CLF__C=0.2469387755102041, CLF__kernel=rbf;, score=0.872 total time=   0.0s\n",
      "[CV 1/5] END CLF__C=0.2469387755102041, CLF__kernel=linear;, score=0.825 total time=   0.0s\n",
      "[CV 2/5] END CLF__C=0.2469387755102041, CLF__kernel=linear;, score=0.821 total time=   0.0s\n",
      "[CV 3/5] END CLF__C=0.2469387755102041, CLF__kernel=linear;, score=0.897 total time=   0.0s\n",
      "[CV 4/5] END CLF__C=0.2469387755102041, CLF__kernel=linear;, score=0.897 total time=   0.0s\n",
      "[CV 5/5] END CLF__C=0.2469387755102041, CLF__kernel=linear;, score=0.795 total time=   0.0s\n",
      "[CV 1/5] END CLF__C=0.2551020408163266, CLF__kernel=rbf;, score=0.825 total time=   0.0s\n",
      "[CV 2/5] END CLF__C=0.2551020408163266, CLF__kernel=rbf;, score=0.821 total time=   0.0s\n",
      "[CV 3/5] END CLF__C=0.2551020408163266, CLF__kernel=rbf;, score=0.846 total time=   0.0s\n",
      "[CV 4/5] END CLF__C=0.2551020408163266, CLF__kernel=rbf;, score=0.872 total time=   0.0s\n",
      "[CV 5/5] END CLF__C=0.2551020408163266, CLF__kernel=rbf;, score=0.872 total time=   0.0s\n",
      "[CV 1/5] END CLF__C=0.2551020408163266, CLF__kernel=linear;, score=0.825 total time=   0.0s\n",
      "[CV 2/5] END CLF__C=0.2551020408163266, CLF__kernel=linear;, score=0.821 total time=   0.0s\n",
      "[CV 3/5] END CLF__C=0.2551020408163266, CLF__kernel=linear;, score=0.897 total time=   0.0s\n",
      "[CV 4/5] END CLF__C=0.2551020408163266, CLF__kernel=linear;, score=0.897 total time=   0.0s\n",
      "[CV 5/5] END CLF__C=0.2551020408163266, CLF__kernel=linear;, score=0.795 total time=   0.0s\n",
      "[CV 1/5] END CLF__C=0.263265306122449, CLF__kernel=rbf;, score=0.825 total time=   0.0s\n",
      "[CV 2/5] END CLF__C=0.263265306122449, CLF__kernel=rbf;, score=0.821 total time=   0.0s\n",
      "[CV 3/5] END CLF__C=0.263265306122449, CLF__kernel=rbf;, score=0.846 total time=   0.0s\n",
      "[CV 4/5] END CLF__C=0.263265306122449, CLF__kernel=rbf;, score=0.872 total time=   0.0s\n"
     ]
    },
    {
     "name": "stdout",
     "output_type": "stream",
     "text": [
      "[CV 5/5] END CLF__C=0.263265306122449, CLF__kernel=rbf;, score=0.872 total time=   0.0s\n",
      "[CV 1/5] END CLF__C=0.263265306122449, CLF__kernel=linear;, score=0.825 total time=   0.0s\n",
      "[CV 2/5] END CLF__C=0.263265306122449, CLF__kernel=linear;, score=0.821 total time=   0.0s\n",
      "[CV 3/5] END CLF__C=0.263265306122449, CLF__kernel=linear;, score=0.897 total time=   0.0s\n",
      "[CV 4/5] END CLF__C=0.263265306122449, CLF__kernel=linear;, score=0.897 total time=   0.0s\n",
      "[CV 5/5] END CLF__C=0.263265306122449, CLF__kernel=linear;, score=0.795 total time=   0.0s\n",
      "[CV 1/5] END CLF__C=0.27142857142857146, CLF__kernel=rbf;, score=0.825 total time=   0.0s\n",
      "[CV 2/5] END CLF__C=0.27142857142857146, CLF__kernel=rbf;, score=0.821 total time=   0.0s\n",
      "[CV 3/5] END CLF__C=0.27142857142857146, CLF__kernel=rbf;, score=0.846 total time=   0.0s\n",
      "[CV 4/5] END CLF__C=0.27142857142857146, CLF__kernel=rbf;, score=0.872 total time=   0.0s\n",
      "[CV 5/5] END CLF__C=0.27142857142857146, CLF__kernel=rbf;, score=0.872 total time=   0.0s\n",
      "[CV 1/5] END CLF__C=0.27142857142857146, CLF__kernel=linear;, score=0.825 total time=   0.0s\n",
      "[CV 2/5] END CLF__C=0.27142857142857146, CLF__kernel=linear;, score=0.821 total time=   0.0s\n",
      "[CV 3/5] END CLF__C=0.27142857142857146, CLF__kernel=linear;, score=0.897 total time=   0.0s\n",
      "[CV 4/5] END CLF__C=0.27142857142857146, CLF__kernel=linear;, score=0.897 total time=   0.0s\n",
      "[CV 5/5] END CLF__C=0.27142857142857146, CLF__kernel=linear;, score=0.795 total time=   0.0s\n",
      "[CV 1/5] END CLF__C=0.2795918367346939, CLF__kernel=rbf;, score=0.825 total time=   0.0s\n",
      "[CV 2/5] END CLF__C=0.2795918367346939, CLF__kernel=rbf;, score=0.821 total time=   0.0s\n",
      "[CV 3/5] END CLF__C=0.2795918367346939, CLF__kernel=rbf;, score=0.846 total time=   0.0s\n",
      "[CV 4/5] END CLF__C=0.2795918367346939, CLF__kernel=rbf;, score=0.872 total time=   0.0s\n",
      "[CV 5/5] END CLF__C=0.2795918367346939, CLF__kernel=rbf;, score=0.872 total time=   0.0s\n",
      "[CV 1/5] END CLF__C=0.2795918367346939, CLF__kernel=linear;, score=0.825 total time=   0.0s\n",
      "[CV 2/5] END CLF__C=0.2795918367346939, CLF__kernel=linear;, score=0.821 total time=   0.0s\n",
      "[CV 3/5] END CLF__C=0.2795918367346939, CLF__kernel=linear;, score=0.897 total time=   0.0s\n",
      "[CV 4/5] END CLF__C=0.2795918367346939, CLF__kernel=linear;, score=0.897 total time=   0.0s\n",
      "[CV 5/5] END CLF__C=0.2795918367346939, CLF__kernel=linear;, score=0.795 total time=   0.0s\n",
      "[CV 1/5] END CLF__C=0.28775510204081634, CLF__kernel=rbf;, score=0.825 total time=   0.0s\n",
      "[CV 2/5] END CLF__C=0.28775510204081634, CLF__kernel=rbf;, score=0.795 total time=   0.0s\n",
      "[CV 3/5] END CLF__C=0.28775510204081634, CLF__kernel=rbf;, score=0.846 total time=   0.0s\n",
      "[CV 4/5] END CLF__C=0.28775510204081634, CLF__kernel=rbf;, score=0.872 total time=   0.0s\n",
      "[CV 5/5] END CLF__C=0.28775510204081634, CLF__kernel=rbf;, score=0.872 total time=   0.0s\n",
      "[CV 1/5] END CLF__C=0.28775510204081634, CLF__kernel=linear;, score=0.825 total time=   0.0s\n",
      "[CV 2/5] END CLF__C=0.28775510204081634, CLF__kernel=linear;, score=0.821 total time=   0.0s\n",
      "[CV 3/5] END CLF__C=0.28775510204081634, CLF__kernel=linear;, score=0.923 total time=   0.0s\n",
      "[CV 4/5] END CLF__C=0.28775510204081634, CLF__kernel=linear;, score=0.897 total time=   0.0s\n",
      "[CV 5/5] END CLF__C=0.28775510204081634, CLF__kernel=linear;, score=0.795 total time=   0.0s\n",
      "[CV 1/5] END CLF__C=0.29591836734693877, CLF__kernel=rbf;, score=0.825 total time=   0.0s\n",
      "[CV 2/5] END CLF__C=0.29591836734693877, CLF__kernel=rbf;, score=0.795 total time=   0.0s\n",
      "[CV 3/5] END CLF__C=0.29591836734693877, CLF__kernel=rbf;, score=0.846 total time=   0.0s\n",
      "[CV 4/5] END CLF__C=0.29591836734693877, CLF__kernel=rbf;, score=0.872 total time=   0.0s\n",
      "[CV 5/5] END CLF__C=0.29591836734693877, CLF__kernel=rbf;, score=0.872 total time=   0.0s\n",
      "[CV 1/5] END CLF__C=0.29591836734693877, CLF__kernel=linear;, score=0.825 total time=   0.0s\n",
      "[CV 2/5] END CLF__C=0.29591836734693877, CLF__kernel=linear;, score=0.821 total time=   0.0s\n",
      "[CV 3/5] END CLF__C=0.29591836734693877, CLF__kernel=linear;, score=0.923 total time=   0.0s\n",
      "[CV 4/5] END CLF__C=0.29591836734693877, CLF__kernel=linear;, score=0.897 total time=   0.0s\n",
      "[CV 5/5] END CLF__C=0.29591836734693877, CLF__kernel=linear;, score=0.795 total time=   0.0s\n",
      "[CV 1/5] END CLF__C=0.3040816326530612, CLF__kernel=rbf;, score=0.825 total time=   0.0s\n",
      "[CV 2/5] END CLF__C=0.3040816326530612, CLF__kernel=rbf;, score=0.769 total time=   0.0s\n",
      "[CV 3/5] END CLF__C=0.3040816326530612, CLF__kernel=rbf;, score=0.846 total time=   0.0s\n",
      "[CV 4/5] END CLF__C=0.3040816326530612, CLF__kernel=rbf;, score=0.872 total time=   0.0s\n",
      "[CV 5/5] END CLF__C=0.3040816326530612, CLF__kernel=rbf;, score=0.872 total time=   0.0s\n",
      "[CV 1/5] END CLF__C=0.3040816326530612, CLF__kernel=linear;, score=0.825 total time=   0.0s\n",
      "[CV 2/5] END CLF__C=0.3040816326530612, CLF__kernel=linear;, score=0.821 total time=   0.0s\n",
      "[CV 3/5] END CLF__C=0.3040816326530612, CLF__kernel=linear;, score=0.923 total time=   0.0s\n",
      "[CV 4/5] END CLF__C=0.3040816326530612, CLF__kernel=linear;, score=0.897 total time=   0.0s\n",
      "[CV 5/5] END CLF__C=0.3040816326530612, CLF__kernel=linear;, score=0.795 total time=   0.0s\n",
      "[CV 1/5] END CLF__C=0.3122448979591837, CLF__kernel=rbf;, score=0.825 total time=   0.0s\n",
      "[CV 2/5] END CLF__C=0.3122448979591837, CLF__kernel=rbf;, score=0.769 total time=   0.0s\n",
      "[CV 3/5] END CLF__C=0.3122448979591837, CLF__kernel=rbf;, score=0.846 total time=   0.0s\n",
      "[CV 4/5] END CLF__C=0.3122448979591837, CLF__kernel=rbf;, score=0.872 total time=   0.0s\n",
      "[CV 5/5] END CLF__C=0.3122448979591837, CLF__kernel=rbf;, score=0.872 total time=   0.0s\n",
      "[CV 1/5] END CLF__C=0.3122448979591837, CLF__kernel=linear;, score=0.825 total time=   0.0s\n",
      "[CV 2/5] END CLF__C=0.3122448979591837, CLF__kernel=linear;, score=0.821 total time=   0.0s\n",
      "[CV 3/5] END CLF__C=0.3122448979591837, CLF__kernel=linear;, score=0.923 total time=   0.0s\n",
      "[CV 4/5] END CLF__C=0.3122448979591837, CLF__kernel=linear;, score=0.897 total time=   0.0s\n",
      "[CV 5/5] END CLF__C=0.3122448979591837, CLF__kernel=linear;, score=0.795 total time=   0.0s\n",
      "[CV 1/5] END CLF__C=0.3204081632653062, CLF__kernel=rbf;, score=0.825 total time=   0.0s\n",
      "[CV 2/5] END CLF__C=0.3204081632653062, CLF__kernel=rbf;, score=0.769 total time=   0.0s\n",
      "[CV 3/5] END CLF__C=0.3204081632653062, CLF__kernel=rbf;, score=0.821 total time=   0.0s\n",
      "[CV 4/5] END CLF__C=0.3204081632653062, CLF__kernel=rbf;, score=0.872 total time=   0.0s\n",
      "[CV 5/5] END CLF__C=0.3204081632653062, CLF__kernel=rbf;, score=0.872 total time=   0.0s\n",
      "[CV 1/5] END CLF__C=0.3204081632653062, CLF__kernel=linear;, score=0.825 total time=   0.0s\n",
      "[CV 2/5] END CLF__C=0.3204081632653062, CLF__kernel=linear;, score=0.821 total time=   0.0s\n",
      "[CV 3/5] END CLF__C=0.3204081632653062, CLF__kernel=linear;, score=0.923 total time=   0.0s\n",
      "[CV 4/5] END CLF__C=0.3204081632653062, CLF__kernel=linear;, score=0.897 total time=   0.0s\n",
      "[CV 5/5] END CLF__C=0.3204081632653062, CLF__kernel=linear;, score=0.795 total time=   0.0s\n",
      "[CV 1/5] END CLF__C=0.3285714285714286, CLF__kernel=rbf;, score=0.825 total time=   0.0s\n",
      "[CV 2/5] END CLF__C=0.3285714285714286, CLF__kernel=rbf;, score=0.769 total time=   0.0s\n",
      "[CV 3/5] END CLF__C=0.3285714285714286, CLF__kernel=rbf;, score=0.821 total time=   0.0s\n",
      "[CV 4/5] END CLF__C=0.3285714285714286, CLF__kernel=rbf;, score=0.872 total time=   0.0s\n",
      "[CV 5/5] END CLF__C=0.3285714285714286, CLF__kernel=rbf;, score=0.872 total time=   0.0s\n",
      "[CV 1/5] END CLF__C=0.3285714285714286, CLF__kernel=linear;, score=0.825 total time=   0.0s\n",
      "[CV 2/5] END CLF__C=0.3285714285714286, CLF__kernel=linear;, score=0.821 total time=   0.0s\n",
      "[CV 3/5] END CLF__C=0.3285714285714286, CLF__kernel=linear;, score=0.923 total time=   0.0s\n",
      "[CV 4/5] END CLF__C=0.3285714285714286, CLF__kernel=linear;, score=0.897 total time=   0.0s\n",
      "[CV 5/5] END CLF__C=0.3285714285714286, CLF__kernel=linear;, score=0.795 total time=   0.0s\n",
      "[CV 1/5] END CLF__C=0.33673469387755106, CLF__kernel=rbf;, score=0.825 total time=   0.0s\n",
      "[CV 2/5] END CLF__C=0.33673469387755106, CLF__kernel=rbf;, score=0.769 total time=   0.0s\n",
      "[CV 3/5] END CLF__C=0.33673469387755106, CLF__kernel=rbf;, score=0.821 total time=   0.0s\n",
      "[CV 4/5] END CLF__C=0.33673469387755106, CLF__kernel=rbf;, score=0.872 total time=   0.0s\n",
      "[CV 5/5] END CLF__C=0.33673469387755106, CLF__kernel=rbf;, score=0.872 total time=   0.0s\n",
      "[CV 1/5] END CLF__C=0.33673469387755106, CLF__kernel=linear;, score=0.825 total time=   0.0s\n",
      "[CV 2/5] END CLF__C=0.33673469387755106, CLF__kernel=linear;, score=0.821 total time=   0.0s\n",
      "[CV 3/5] END CLF__C=0.33673469387755106, CLF__kernel=linear;, score=0.923 total time=   0.0s\n",
      "[CV 4/5] END CLF__C=0.33673469387755106, CLF__kernel=linear;, score=0.897 total time=   0.0s\n",
      "[CV 5/5] END CLF__C=0.33673469387755106, CLF__kernel=linear;, score=0.795 total time=   0.0s\n",
      "[CV 1/5] END CLF__C=0.3448979591836735, CLF__kernel=rbf;, score=0.825 total time=   0.0s\n",
      "[CV 2/5] END CLF__C=0.3448979591836735, CLF__kernel=rbf;, score=0.769 total time=   0.0s\n",
      "[CV 3/5] END CLF__C=0.3448979591836735, CLF__kernel=rbf;, score=0.821 total time=   0.0s\n",
      "[CV 4/5] END CLF__C=0.3448979591836735, CLF__kernel=rbf;, score=0.897 total time=   0.0s\n",
      "[CV 5/5] END CLF__C=0.3448979591836735, CLF__kernel=rbf;, score=0.872 total time=   0.0s\n",
      "[CV 1/5] END CLF__C=0.3448979591836735, CLF__kernel=linear;, score=0.825 total time=   0.0s\n",
      "[CV 2/5] END CLF__C=0.3448979591836735, CLF__kernel=linear;, score=0.821 total time=   0.0s\n"
     ]
    },
    {
     "name": "stdout",
     "output_type": "stream",
     "text": [
      "[CV 3/5] END CLF__C=0.3448979591836735, CLF__kernel=linear;, score=0.923 total time=   0.0s\n",
      "[CV 4/5] END CLF__C=0.3448979591836735, CLF__kernel=linear;, score=0.897 total time=   0.0s\n",
      "[CV 5/5] END CLF__C=0.3448979591836735, CLF__kernel=linear;, score=0.795 total time=   0.0s\n",
      "[CV 1/5] END CLF__C=0.35306122448979593, CLF__kernel=rbf;, score=0.825 total time=   0.0s\n",
      "[CV 2/5] END CLF__C=0.35306122448979593, CLF__kernel=rbf;, score=0.769 total time=   0.0s\n",
      "[CV 3/5] END CLF__C=0.35306122448979593, CLF__kernel=rbf;, score=0.821 total time=   0.0s\n",
      "[CV 4/5] END CLF__C=0.35306122448979593, CLF__kernel=rbf;, score=0.897 total time=   0.0s\n",
      "[CV 5/5] END CLF__C=0.35306122448979593, CLF__kernel=rbf;, score=0.872 total time=   0.0s\n",
      "[CV 1/5] END CLF__C=0.35306122448979593, CLF__kernel=linear;, score=0.825 total time=   0.0s\n",
      "[CV 2/5] END CLF__C=0.35306122448979593, CLF__kernel=linear;, score=0.821 total time=   0.0s\n",
      "[CV 3/5] END CLF__C=0.35306122448979593, CLF__kernel=linear;, score=0.923 total time=   0.0s\n",
      "[CV 4/5] END CLF__C=0.35306122448979593, CLF__kernel=linear;, score=0.897 total time=   0.0s\n",
      "[CV 5/5] END CLF__C=0.35306122448979593, CLF__kernel=linear;, score=0.795 total time=   0.0s\n",
      "[CV 1/5] END CLF__C=0.36122448979591837, CLF__kernel=rbf;, score=0.825 total time=   0.0s\n",
      "[CV 2/5] END CLF__C=0.36122448979591837, CLF__kernel=rbf;, score=0.769 total time=   0.0s\n",
      "[CV 3/5] END CLF__C=0.36122448979591837, CLF__kernel=rbf;, score=0.846 total time=   0.0s\n",
      "[CV 4/5] END CLF__C=0.36122448979591837, CLF__kernel=rbf;, score=0.897 total time=   0.0s\n",
      "[CV 5/5] END CLF__C=0.36122448979591837, CLF__kernel=rbf;, score=0.872 total time=   0.0s\n",
      "[CV 1/5] END CLF__C=0.36122448979591837, CLF__kernel=linear;, score=0.825 total time=   0.0s\n",
      "[CV 2/5] END CLF__C=0.36122448979591837, CLF__kernel=linear;, score=0.821 total time=   0.0s\n",
      "[CV 3/5] END CLF__C=0.36122448979591837, CLF__kernel=linear;, score=0.923 total time=   0.0s\n",
      "[CV 4/5] END CLF__C=0.36122448979591837, CLF__kernel=linear;, score=0.897 total time=   0.0s\n",
      "[CV 5/5] END CLF__C=0.36122448979591837, CLF__kernel=linear;, score=0.795 total time=   0.0s\n",
      "[CV 1/5] END CLF__C=0.3693877551020408, CLF__kernel=rbf;, score=0.850 total time=   0.0s\n",
      "[CV 2/5] END CLF__C=0.3693877551020408, CLF__kernel=rbf;, score=0.769 total time=   0.0s\n",
      "[CV 3/5] END CLF__C=0.3693877551020408, CLF__kernel=rbf;, score=0.872 total time=   0.0s\n",
      "[CV 4/5] END CLF__C=0.3693877551020408, CLF__kernel=rbf;, score=0.897 total time=   0.0s\n",
      "[CV 5/5] END CLF__C=0.3693877551020408, CLF__kernel=rbf;, score=0.872 total time=   0.0s\n",
      "[CV 1/5] END CLF__C=0.3693877551020408, CLF__kernel=linear;, score=0.825 total time=   0.0s\n",
      "[CV 2/5] END CLF__C=0.3693877551020408, CLF__kernel=linear;, score=0.821 total time=   0.0s\n",
      "[CV 3/5] END CLF__C=0.3693877551020408, CLF__kernel=linear;, score=0.897 total time=   0.0s\n",
      "[CV 4/5] END CLF__C=0.3693877551020408, CLF__kernel=linear;, score=0.897 total time=   0.0s\n",
      "[CV 5/5] END CLF__C=0.3693877551020408, CLF__kernel=linear;, score=0.795 total time=   0.0s\n",
      "[CV 1/5] END CLF__C=0.37755102040816324, CLF__kernel=rbf;, score=0.850 total time=   0.0s\n",
      "[CV 2/5] END CLF__C=0.37755102040816324, CLF__kernel=rbf;, score=0.769 total time=   0.0s\n",
      "[CV 3/5] END CLF__C=0.37755102040816324, CLF__kernel=rbf;, score=0.872 total time=   0.0s\n",
      "[CV 4/5] END CLF__C=0.37755102040816324, CLF__kernel=rbf;, score=0.897 total time=   0.0s\n",
      "[CV 5/5] END CLF__C=0.37755102040816324, CLF__kernel=rbf;, score=0.872 total time=   0.0s\n",
      "[CV 1/5] END CLF__C=0.37755102040816324, CLF__kernel=linear;, score=0.825 total time=   0.0s\n",
      "[CV 2/5] END CLF__C=0.37755102040816324, CLF__kernel=linear;, score=0.821 total time=   0.0s\n",
      "[CV 3/5] END CLF__C=0.37755102040816324, CLF__kernel=linear;, score=0.897 total time=   0.0s\n",
      "[CV 4/5] END CLF__C=0.37755102040816324, CLF__kernel=linear;, score=0.897 total time=   0.0s\n",
      "[CV 5/5] END CLF__C=0.37755102040816324, CLF__kernel=linear;, score=0.795 total time=   0.0s\n",
      "[CV 1/5] END CLF__C=0.3857142857142858, CLF__kernel=rbf;, score=0.850 total time=   0.0s\n",
      "[CV 2/5] END CLF__C=0.3857142857142858, CLF__kernel=rbf;, score=0.769 total time=   0.0s\n",
      "[CV 3/5] END CLF__C=0.3857142857142858, CLF__kernel=rbf;, score=0.872 total time=   0.0s\n",
      "[CV 4/5] END CLF__C=0.3857142857142858, CLF__kernel=rbf;, score=0.897 total time=   0.0s\n",
      "[CV 5/5] END CLF__C=0.3857142857142858, CLF__kernel=rbf;, score=0.872 total time=   0.0s\n",
      "[CV 1/5] END CLF__C=0.3857142857142858, CLF__kernel=linear;, score=0.850 total time=   0.0s\n",
      "[CV 2/5] END CLF__C=0.3857142857142858, CLF__kernel=linear;, score=0.821 total time=   0.0s\n",
      "[CV 3/5] END CLF__C=0.3857142857142858, CLF__kernel=linear;, score=0.897 total time=   0.0s\n",
      "[CV 4/5] END CLF__C=0.3857142857142858, CLF__kernel=linear;, score=0.897 total time=   0.0s\n",
      "[CV 5/5] END CLF__C=0.3857142857142858, CLF__kernel=linear;, score=0.795 total time=   0.0s\n",
      "[CV 1/5] END CLF__C=0.3938775510204082, CLF__kernel=rbf;, score=0.850 total time=   0.0s\n",
      "[CV 2/5] END CLF__C=0.3938775510204082, CLF__kernel=rbf;, score=0.769 total time=   0.0s\n",
      "[CV 3/5] END CLF__C=0.3938775510204082, CLF__kernel=rbf;, score=0.872 total time=   0.0s\n",
      "[CV 4/5] END CLF__C=0.3938775510204082, CLF__kernel=rbf;, score=0.897 total time=   0.0s\n",
      "[CV 5/5] END CLF__C=0.3938775510204082, CLF__kernel=rbf;, score=0.872 total time=   0.0s\n",
      "[CV 1/5] END CLF__C=0.3938775510204082, CLF__kernel=linear;, score=0.850 total time=   0.0s\n",
      "[CV 2/5] END CLF__C=0.3938775510204082, CLF__kernel=linear;, score=0.821 total time=   0.0s\n",
      "[CV 3/5] END CLF__C=0.3938775510204082, CLF__kernel=linear;, score=0.897 total time=   0.0s\n",
      "[CV 4/5] END CLF__C=0.3938775510204082, CLF__kernel=linear;, score=0.897 total time=   0.0s\n",
      "[CV 5/5] END CLF__C=0.3938775510204082, CLF__kernel=linear;, score=0.795 total time=   0.0s\n",
      "[CV 1/5] END CLF__C=0.40204081632653066, CLF__kernel=rbf;, score=0.850 total time=   0.0s\n",
      "[CV 2/5] END CLF__C=0.40204081632653066, CLF__kernel=rbf;, score=0.769 total time=   0.0s\n",
      "[CV 3/5] END CLF__C=0.40204081632653066, CLF__kernel=rbf;, score=0.872 total time=   0.0s\n",
      "[CV 4/5] END CLF__C=0.40204081632653066, CLF__kernel=rbf;, score=0.897 total time=   0.0s\n",
      "[CV 5/5] END CLF__C=0.40204081632653066, CLF__kernel=rbf;, score=0.872 total time=   0.0s\n",
      "[CV 1/5] END CLF__C=0.40204081632653066, CLF__kernel=linear;, score=0.850 total time=   0.0s\n",
      "[CV 2/5] END CLF__C=0.40204081632653066, CLF__kernel=linear;, score=0.821 total time=   0.0s\n",
      "[CV 3/5] END CLF__C=0.40204081632653066, CLF__kernel=linear;, score=0.897 total time=   0.0s\n",
      "[CV 4/5] END CLF__C=0.40204081632653066, CLF__kernel=linear;, score=0.897 total time=   0.0s\n",
      "[CV 5/5] END CLF__C=0.40204081632653066, CLF__kernel=linear;, score=0.795 total time=   0.0s\n",
      "[CV 1/5] END CLF__C=0.4102040816326531, CLF__kernel=rbf;, score=0.850 total time=   0.0s\n",
      "[CV 2/5] END CLF__C=0.4102040816326531, CLF__kernel=rbf;, score=0.769 total time=   0.0s\n",
      "[CV 3/5] END CLF__C=0.4102040816326531, CLF__kernel=rbf;, score=0.872 total time=   0.0s\n",
      "[CV 4/5] END CLF__C=0.4102040816326531, CLF__kernel=rbf;, score=0.897 total time=   0.0s\n",
      "[CV 5/5] END CLF__C=0.4102040816326531, CLF__kernel=rbf;, score=0.872 total time=   0.0s\n",
      "[CV 1/5] END CLF__C=0.4102040816326531, CLF__kernel=linear;, score=0.850 total time=   0.0s\n",
      "[CV 2/5] END CLF__C=0.4102040816326531, CLF__kernel=linear;, score=0.821 total time=   0.0s\n",
      "[CV 3/5] END CLF__C=0.4102040816326531, CLF__kernel=linear;, score=0.897 total time=   0.0s\n",
      "[CV 4/5] END CLF__C=0.4102040816326531, CLF__kernel=linear;, score=0.897 total time=   0.0s\n",
      "[CV 5/5] END CLF__C=0.4102040816326531, CLF__kernel=linear;, score=0.795 total time=   0.0s\n",
      "[CV 1/5] END CLF__C=0.41836734693877553, CLF__kernel=rbf;, score=0.850 total time=   0.0s\n",
      "[CV 2/5] END CLF__C=0.41836734693877553, CLF__kernel=rbf;, score=0.769 total time=   0.0s\n",
      "[CV 3/5] END CLF__C=0.41836734693877553, CLF__kernel=rbf;, score=0.872 total time=   0.0s\n",
      "[CV 4/5] END CLF__C=0.41836734693877553, CLF__kernel=rbf;, score=0.897 total time=   0.0s\n",
      "[CV 5/5] END CLF__C=0.41836734693877553, CLF__kernel=rbf;, score=0.872 total time=   0.0s\n",
      "[CV 1/5] END CLF__C=0.41836734693877553, CLF__kernel=linear;, score=0.850 total time=   0.0s\n",
      "[CV 2/5] END CLF__C=0.41836734693877553, CLF__kernel=linear;, score=0.821 total time=   0.0s\n",
      "[CV 3/5] END CLF__C=0.41836734693877553, CLF__kernel=linear;, score=0.897 total time=   0.0s\n",
      "[CV 4/5] END CLF__C=0.41836734693877553, CLF__kernel=linear;, score=0.897 total time=   0.0s\n"
     ]
    },
    {
     "name": "stdout",
     "output_type": "stream",
     "text": [
      "[CV 5/5] END CLF__C=0.41836734693877553, CLF__kernel=linear;, score=0.795 total time=   0.0s\n",
      "[CV 1/5] END CLF__C=0.42653061224489797, CLF__kernel=rbf;, score=0.850 total time=   0.0s\n",
      "[CV 2/5] END CLF__C=0.42653061224489797, CLF__kernel=rbf;, score=0.769 total time=   0.0s\n",
      "[CV 3/5] END CLF__C=0.42653061224489797, CLF__kernel=rbf;, score=0.872 total time=   0.0s\n",
      "[CV 4/5] END CLF__C=0.42653061224489797, CLF__kernel=rbf;, score=0.897 total time=   0.0s\n",
      "[CV 5/5] END CLF__C=0.42653061224489797, CLF__kernel=rbf;, score=0.872 total time=   0.0s\n",
      "[CV 1/5] END CLF__C=0.42653061224489797, CLF__kernel=linear;, score=0.850 total time=   0.0s\n",
      "[CV 2/5] END CLF__C=0.42653061224489797, CLF__kernel=linear;, score=0.821 total time=   0.0s\n",
      "[CV 3/5] END CLF__C=0.42653061224489797, CLF__kernel=linear;, score=0.897 total time=   0.0s\n",
      "[CV 4/5] END CLF__C=0.42653061224489797, CLF__kernel=linear;, score=0.897 total time=   0.0s\n",
      "[CV 5/5] END CLF__C=0.42653061224489797, CLF__kernel=linear;, score=0.795 total time=   0.0s\n",
      "[CV 1/5] END CLF__C=0.4346938775510204, CLF__kernel=rbf;, score=0.850 total time=   0.0s\n",
      "[CV 2/5] END CLF__C=0.4346938775510204, CLF__kernel=rbf;, score=0.769 total time=   0.0s\n",
      "[CV 3/5] END CLF__C=0.4346938775510204, CLF__kernel=rbf;, score=0.846 total time=   0.0s\n",
      "[CV 4/5] END CLF__C=0.4346938775510204, CLF__kernel=rbf;, score=0.897 total time=   0.0s\n",
      "[CV 5/5] END CLF__C=0.4346938775510204, CLF__kernel=rbf;, score=0.872 total time=   0.0s\n",
      "[CV 1/5] END CLF__C=0.4346938775510204, CLF__kernel=linear;, score=0.850 total time=   0.0s\n",
      "[CV 2/5] END CLF__C=0.4346938775510204, CLF__kernel=linear;, score=0.821 total time=   0.0s\n",
      "[CV 3/5] END CLF__C=0.4346938775510204, CLF__kernel=linear;, score=0.897 total time=   0.0s\n",
      "[CV 4/5] END CLF__C=0.4346938775510204, CLF__kernel=linear;, score=0.897 total time=   0.0s\n",
      "[CV 5/5] END CLF__C=0.4346938775510204, CLF__kernel=linear;, score=0.795 total time=   0.0s\n",
      "[CV 1/5] END CLF__C=0.44285714285714284, CLF__kernel=rbf;, score=0.850 total time=   0.0s\n",
      "[CV 2/5] END CLF__C=0.44285714285714284, CLF__kernel=rbf;, score=0.769 total time=   0.0s\n",
      "[CV 3/5] END CLF__C=0.44285714285714284, CLF__kernel=rbf;, score=0.846 total time=   0.0s\n",
      "[CV 4/5] END CLF__C=0.44285714285714284, CLF__kernel=rbf;, score=0.897 total time=   0.0s\n",
      "[CV 5/5] END CLF__C=0.44285714285714284, CLF__kernel=rbf;, score=0.872 total time=   0.0s\n",
      "[CV 1/5] END CLF__C=0.44285714285714284, CLF__kernel=linear;, score=0.850 total time=   0.0s\n",
      "[CV 2/5] END CLF__C=0.44285714285714284, CLF__kernel=linear;, score=0.821 total time=   0.0s\n",
      "[CV 3/5] END CLF__C=0.44285714285714284, CLF__kernel=linear;, score=0.897 total time=   0.0s\n",
      "[CV 4/5] END CLF__C=0.44285714285714284, CLF__kernel=linear;, score=0.897 total time=   0.0s\n",
      "[CV 5/5] END CLF__C=0.44285714285714284, CLF__kernel=linear;, score=0.795 total time=   0.0s\n",
      "[CV 1/5] END CLF__C=0.4510204081632654, CLF__kernel=rbf;, score=0.850 total time=   0.0s\n",
      "[CV 2/5] END CLF__C=0.4510204081632654, CLF__kernel=rbf;, score=0.769 total time=   0.0s\n",
      "[CV 3/5] END CLF__C=0.4510204081632654, CLF__kernel=rbf;, score=0.821 total time=   0.0s\n",
      "[CV 4/5] END CLF__C=0.4510204081632654, CLF__kernel=rbf;, score=0.897 total time=   0.0s\n",
      "[CV 5/5] END CLF__C=0.4510204081632654, CLF__kernel=rbf;, score=0.872 total time=   0.0s\n",
      "[CV 1/5] END CLF__C=0.4510204081632654, CLF__kernel=linear;, score=0.850 total time=   0.0s\n",
      "[CV 2/5] END CLF__C=0.4510204081632654, CLF__kernel=linear;, score=0.821 total time=   0.0s\n",
      "[CV 3/5] END CLF__C=0.4510204081632654, CLF__kernel=linear;, score=0.897 total time=   0.0s\n",
      "[CV 4/5] END CLF__C=0.4510204081632654, CLF__kernel=linear;, score=0.897 total time=   0.0s\n",
      "[CV 5/5] END CLF__C=0.4510204081632654, CLF__kernel=linear;, score=0.821 total time=   0.0s\n",
      "[CV 1/5] END CLF__C=0.4591836734693878, CLF__kernel=rbf;, score=0.850 total time=   0.0s\n",
      "[CV 2/5] END CLF__C=0.4591836734693878, CLF__kernel=rbf;, score=0.795 total time=   0.0s\n",
      "[CV 3/5] END CLF__C=0.4591836734693878, CLF__kernel=rbf;, score=0.821 total time=   0.0s\n",
      "[CV 4/5] END CLF__C=0.4591836734693878, CLF__kernel=rbf;, score=0.897 total time=   0.0s\n",
      "[CV 5/5] END CLF__C=0.4591836734693878, CLF__kernel=rbf;, score=0.846 total time=   0.0s\n",
      "[CV 1/5] END CLF__C=0.4591836734693878, CLF__kernel=linear;, score=0.850 total time=   0.0s\n",
      "[CV 2/5] END CLF__C=0.4591836734693878, CLF__kernel=linear;, score=0.821 total time=   0.0s\n",
      "[CV 3/5] END CLF__C=0.4591836734693878, CLF__kernel=linear;, score=0.897 total time=   0.0s\n",
      "[CV 4/5] END CLF__C=0.4591836734693878, CLF__kernel=linear;, score=0.897 total time=   0.0s\n",
      "[CV 5/5] END CLF__C=0.4591836734693878, CLF__kernel=linear;, score=0.821 total time=   0.0s\n",
      "[CV 1/5] END CLF__C=0.46734693877551026, CLF__kernel=rbf;, score=0.850 total time=   0.0s\n",
      "[CV 2/5] END CLF__C=0.46734693877551026, CLF__kernel=rbf;, score=0.795 total time=   0.0s\n",
      "[CV 3/5] END CLF__C=0.46734693877551026, CLF__kernel=rbf;, score=0.821 total time=   0.0s\n",
      "[CV 4/5] END CLF__C=0.46734693877551026, CLF__kernel=rbf;, score=0.897 total time=   0.0s\n",
      "[CV 5/5] END CLF__C=0.46734693877551026, CLF__kernel=rbf;, score=0.846 total time=   0.0s\n",
      "[CV 1/5] END CLF__C=0.46734693877551026, CLF__kernel=linear;, score=0.850 total time=   0.0s\n",
      "[CV 2/5] END CLF__C=0.46734693877551026, CLF__kernel=linear;, score=0.821 total time=   0.0s\n",
      "[CV 3/5] END CLF__C=0.46734693877551026, CLF__kernel=linear;, score=0.897 total time=   0.0s\n",
      "[CV 4/5] END CLF__C=0.46734693877551026, CLF__kernel=linear;, score=0.897 total time=   0.0s\n",
      "[CV 5/5] END CLF__C=0.46734693877551026, CLF__kernel=linear;, score=0.821 total time=   0.0s\n",
      "[CV 1/5] END CLF__C=0.4755102040816327, CLF__kernel=rbf;, score=0.850 total time=   0.0s\n",
      "[CV 2/5] END CLF__C=0.4755102040816327, CLF__kernel=rbf;, score=0.795 total time=   0.0s\n",
      "[CV 3/5] END CLF__C=0.4755102040816327, CLF__kernel=rbf;, score=0.821 total time=   0.0s\n",
      "[CV 4/5] END CLF__C=0.4755102040816327, CLF__kernel=rbf;, score=0.897 total time=   0.0s\n",
      "[CV 5/5] END CLF__C=0.4755102040816327, CLF__kernel=rbf;, score=0.846 total time=   0.0s\n",
      "[CV 1/5] END CLF__C=0.4755102040816327, CLF__kernel=linear;, score=0.850 total time=   0.0s\n",
      "[CV 2/5] END CLF__C=0.4755102040816327, CLF__kernel=linear;, score=0.821 total time=   0.0s\n",
      "[CV 3/5] END CLF__C=0.4755102040816327, CLF__kernel=linear;, score=0.897 total time=   0.0s\n",
      "[CV 4/5] END CLF__C=0.4755102040816327, CLF__kernel=linear;, score=0.897 total time=   0.0s\n",
      "[CV 5/5] END CLF__C=0.4755102040816327, CLF__kernel=linear;, score=0.821 total time=   0.0s\n",
      "[CV 1/5] END CLF__C=0.48367346938775513, CLF__kernel=rbf;, score=0.850 total time=   0.0s\n",
      "[CV 2/5] END CLF__C=0.48367346938775513, CLF__kernel=rbf;, score=0.795 total time=   0.0s\n",
      "[CV 3/5] END CLF__C=0.48367346938775513, CLF__kernel=rbf;, score=0.821 total time=   0.0s\n",
      "[CV 4/5] END CLF__C=0.48367346938775513, CLF__kernel=rbf;, score=0.897 total time=   0.0s\n",
      "[CV 5/5] END CLF__C=0.48367346938775513, CLF__kernel=rbf;, score=0.846 total time=   0.0s\n",
      "[CV 1/5] END CLF__C=0.48367346938775513, CLF__kernel=linear;, score=0.825 total time=   0.0s\n",
      "[CV 2/5] END CLF__C=0.48367346938775513, CLF__kernel=linear;, score=0.821 total time=   0.0s\n",
      "[CV 3/5] END CLF__C=0.48367346938775513, CLF__kernel=linear;, score=0.872 total time=   0.0s\n",
      "[CV 4/5] END CLF__C=0.48367346938775513, CLF__kernel=linear;, score=0.897 total time=   0.0s\n",
      "[CV 5/5] END CLF__C=0.48367346938775513, CLF__kernel=linear;, score=0.821 total time=   0.0s\n",
      "[CV 1/5] END CLF__C=0.49183673469387756, CLF__kernel=rbf;, score=0.850 total time=   0.0s\n",
      "[CV 2/5] END CLF__C=0.49183673469387756, CLF__kernel=rbf;, score=0.795 total time=   0.0s\n",
      "[CV 3/5] END CLF__C=0.49183673469387756, CLF__kernel=rbf;, score=0.821 total time=   0.0s\n",
      "[CV 4/5] END CLF__C=0.49183673469387756, CLF__kernel=rbf;, score=0.897 total time=   0.0s\n",
      "[CV 5/5] END CLF__C=0.49183673469387756, CLF__kernel=rbf;, score=0.846 total time=   0.0s\n",
      "[CV 1/5] END CLF__C=0.49183673469387756, CLF__kernel=linear;, score=0.825 total time=   0.0s\n",
      "[CV 2/5] END CLF__C=0.49183673469387756, CLF__kernel=linear;, score=0.821 total time=   0.0s\n",
      "[CV 3/5] END CLF__C=0.49183673469387756, CLF__kernel=linear;, score=0.872 total time=   0.0s\n",
      "[CV 4/5] END CLF__C=0.49183673469387756, CLF__kernel=linear;, score=0.897 total time=   0.0s\n",
      "[CV 5/5] END CLF__C=0.49183673469387756, CLF__kernel=linear;, score=0.821 total time=   0.0s\n",
      "[CV 1/5] END .......CLF__C=0.5, CLF__kernel=rbf;, score=0.850 total time=   0.0s\n"
     ]
    },
    {
     "name": "stdout",
     "output_type": "stream",
     "text": [
      "[CV 2/5] END .......CLF__C=0.5, CLF__kernel=rbf;, score=0.795 total time=   0.0s\n",
      "[CV 3/5] END .......CLF__C=0.5, CLF__kernel=rbf;, score=0.821 total time=   0.0s\n",
      "[CV 4/5] END .......CLF__C=0.5, CLF__kernel=rbf;, score=0.897 total time=   0.0s\n",
      "[CV 5/5] END .......CLF__C=0.5, CLF__kernel=rbf;, score=0.846 total time=   0.0s\n",
      "[CV 1/5] END ....CLF__C=0.5, CLF__kernel=linear;, score=0.825 total time=   0.0s\n",
      "[CV 2/5] END ....CLF__C=0.5, CLF__kernel=linear;, score=0.821 total time=   0.0s\n",
      "[CV 3/5] END ....CLF__C=0.5, CLF__kernel=linear;, score=0.872 total time=   0.0s\n",
      "[CV 4/5] END ....CLF__C=0.5, CLF__kernel=linear;, score=0.897 total time=   0.0s\n",
      "[CV 5/5] END ....CLF__C=0.5, CLF__kernel=linear;, score=0.821 total time=   0.0s\n"
     ]
    },
    {
     "data": {
      "text/html": [
       "<style>#sk-container-id-3 {color: black;background-color: white;}#sk-container-id-3 pre{padding: 0;}#sk-container-id-3 div.sk-toggleable {background-color: white;}#sk-container-id-3 label.sk-toggleable__label {cursor: pointer;display: block;width: 100%;margin-bottom: 0;padding: 0.3em;box-sizing: border-box;text-align: center;}#sk-container-id-3 label.sk-toggleable__label-arrow:before {content: \"▸\";float: left;margin-right: 0.25em;color: #696969;}#sk-container-id-3 label.sk-toggleable__label-arrow:hover:before {color: black;}#sk-container-id-3 div.sk-estimator:hover label.sk-toggleable__label-arrow:before {color: black;}#sk-container-id-3 div.sk-toggleable__content {max-height: 0;max-width: 0;overflow: hidden;text-align: left;background-color: #f0f8ff;}#sk-container-id-3 div.sk-toggleable__content pre {margin: 0.2em;color: black;border-radius: 0.25em;background-color: #f0f8ff;}#sk-container-id-3 input.sk-toggleable__control:checked~div.sk-toggleable__content {max-height: 200px;max-width: 100%;overflow: auto;}#sk-container-id-3 input.sk-toggleable__control:checked~label.sk-toggleable__label-arrow:before {content: \"▾\";}#sk-container-id-3 div.sk-estimator input.sk-toggleable__control:checked~label.sk-toggleable__label {background-color: #d4ebff;}#sk-container-id-3 div.sk-label input.sk-toggleable__control:checked~label.sk-toggleable__label {background-color: #d4ebff;}#sk-container-id-3 input.sk-hidden--visually {border: 0;clip: rect(1px 1px 1px 1px);clip: rect(1px, 1px, 1px, 1px);height: 1px;margin: -1px;overflow: hidden;padding: 0;position: absolute;width: 1px;}#sk-container-id-3 div.sk-estimator {font-family: monospace;background-color: #f0f8ff;border: 1px dotted black;border-radius: 0.25em;box-sizing: border-box;margin-bottom: 0.5em;}#sk-container-id-3 div.sk-estimator:hover {background-color: #d4ebff;}#sk-container-id-3 div.sk-parallel-item::after {content: \"\";width: 100%;border-bottom: 1px solid gray;flex-grow: 1;}#sk-container-id-3 div.sk-label:hover label.sk-toggleable__label {background-color: #d4ebff;}#sk-container-id-3 div.sk-serial::before {content: \"\";position: absolute;border-left: 1px solid gray;box-sizing: border-box;top: 0;bottom: 0;left: 50%;z-index: 0;}#sk-container-id-3 div.sk-serial {display: flex;flex-direction: column;align-items: center;background-color: white;padding-right: 0.2em;padding-left: 0.2em;position: relative;}#sk-container-id-3 div.sk-item {position: relative;z-index: 1;}#sk-container-id-3 div.sk-parallel {display: flex;align-items: stretch;justify-content: center;background-color: white;position: relative;}#sk-container-id-3 div.sk-item::before, #sk-container-id-3 div.sk-parallel-item::before {content: \"\";position: absolute;border-left: 1px solid gray;box-sizing: border-box;top: 0;bottom: 0;left: 50%;z-index: -1;}#sk-container-id-3 div.sk-parallel-item {display: flex;flex-direction: column;z-index: 1;position: relative;background-color: white;}#sk-container-id-3 div.sk-parallel-item:first-child::after {align-self: flex-end;width: 50%;}#sk-container-id-3 div.sk-parallel-item:last-child::after {align-self: flex-start;width: 50%;}#sk-container-id-3 div.sk-parallel-item:only-child::after {width: 0;}#sk-container-id-3 div.sk-dashed-wrapped {border: 1px dashed gray;margin: 0 0.4em 0.5em 0.4em;box-sizing: border-box;padding-bottom: 0.4em;background-color: white;}#sk-container-id-3 div.sk-label label {font-family: monospace;font-weight: bold;display: inline-block;line-height: 1.2em;}#sk-container-id-3 div.sk-label-container {text-align: center;}#sk-container-id-3 div.sk-container {/* jupyter's `normalize.less` sets `[hidden] { display: none; }` but bootstrap.min.css set `[hidden] { display: none !important; }` so we also need the `!important` here to be able to override the default hidden behavior on the sphinx rendered scikit-learn.org. See: https://github.com/scikit-learn/scikit-learn/issues/21755 */display: inline-block !important;position: relative;}#sk-container-id-3 div.sk-text-repr-fallback {display: none;}</style><div id=\"sk-container-id-3\" class=\"sk-top-container\"><div class=\"sk-text-repr-fallback\"><pre>GridSearchCV(estimator=Pipeline(steps=[(&#x27;Scaler&#x27;, StandardScaler()),\n",
       "                                       (&#x27;CLF&#x27;, SVC())]),\n",
       "             param_grid={&#x27;CLF__C&#x27;: array([0.1       , 0.10816327, 0.11632653, 0.1244898 , 0.13265306,\n",
       "       0.14081633, 0.14897959, 0.15714286, 0.16530612, 0.17346939,\n",
       "       0.18163265, 0.18979592, 0.19795918, 0.20612245, 0.21428571,\n",
       "       0.22244898, 0.23061224, 0.23877551, 0.24693878, 0.25510204,\n",
       "       0.26326531, 0.27142857, 0.27959184, 0.2877551 , 0.29591837,\n",
       "       0.30408163, 0.3122449 , 0.32040816, 0.32857143, 0.33673469,\n",
       "       0.34489796, 0.35306122, 0.36122449, 0.36938776, 0.37755102,\n",
       "       0.38571429, 0.39387755, 0.40204082, 0.41020408, 0.41836735,\n",
       "       0.42653061, 0.43469388, 0.44285714, 0.45102041, 0.45918367,\n",
       "       0.46734694, 0.4755102 , 0.48367347, 0.49183673, 0.5       ]),\n",
       "                         &#x27;CLF__kernel&#x27;: [&#x27;rbf&#x27;, &#x27;linear&#x27;]},\n",
       "             verbose=5)</pre><b>In a Jupyter environment, please rerun this cell to show the HTML representation or trust the notebook. <br />On GitHub, the HTML representation is unable to render, please try loading this page with nbviewer.org.</b></div><div class=\"sk-container\" hidden><div class=\"sk-item sk-dashed-wrapped\"><div class=\"sk-label-container\"><div class=\"sk-label sk-toggleable\"><input class=\"sk-toggleable__control sk-hidden--visually\" id=\"sk-estimator-id-8\" type=\"checkbox\" ><label for=\"sk-estimator-id-8\" class=\"sk-toggleable__label sk-toggleable__label-arrow\">GridSearchCV</label><div class=\"sk-toggleable__content\"><pre>GridSearchCV(estimator=Pipeline(steps=[(&#x27;Scaler&#x27;, StandardScaler()),\n",
       "                                       (&#x27;CLF&#x27;, SVC())]),\n",
       "             param_grid={&#x27;CLF__C&#x27;: array([0.1       , 0.10816327, 0.11632653, 0.1244898 , 0.13265306,\n",
       "       0.14081633, 0.14897959, 0.15714286, 0.16530612, 0.17346939,\n",
       "       0.18163265, 0.18979592, 0.19795918, 0.20612245, 0.21428571,\n",
       "       0.22244898, 0.23061224, 0.23877551, 0.24693878, 0.25510204,\n",
       "       0.26326531, 0.27142857, 0.27959184, 0.2877551 , 0.29591837,\n",
       "       0.30408163, 0.3122449 , 0.32040816, 0.32857143, 0.33673469,\n",
       "       0.34489796, 0.35306122, 0.36122449, 0.36938776, 0.37755102,\n",
       "       0.38571429, 0.39387755, 0.40204082, 0.41020408, 0.41836735,\n",
       "       0.42653061, 0.43469388, 0.44285714, 0.45102041, 0.45918367,\n",
       "       0.46734694, 0.4755102 , 0.48367347, 0.49183673, 0.5       ]),\n",
       "                         &#x27;CLF__kernel&#x27;: [&#x27;rbf&#x27;, &#x27;linear&#x27;]},\n",
       "             verbose=5)</pre></div></div></div><div class=\"sk-parallel\"><div class=\"sk-parallel-item\"><div class=\"sk-item\"><div class=\"sk-label-container\"><div class=\"sk-label sk-toggleable\"><input class=\"sk-toggleable__control sk-hidden--visually\" id=\"sk-estimator-id-9\" type=\"checkbox\" ><label for=\"sk-estimator-id-9\" class=\"sk-toggleable__label sk-toggleable__label-arrow\">estimator: Pipeline</label><div class=\"sk-toggleable__content\"><pre>Pipeline(steps=[(&#x27;Scaler&#x27;, StandardScaler()), (&#x27;CLF&#x27;, SVC())])</pre></div></div></div><div class=\"sk-serial\"><div class=\"sk-item\"><div class=\"sk-serial\"><div class=\"sk-item\"><div class=\"sk-estimator sk-toggleable\"><input class=\"sk-toggleable__control sk-hidden--visually\" id=\"sk-estimator-id-10\" type=\"checkbox\" ><label for=\"sk-estimator-id-10\" class=\"sk-toggleable__label sk-toggleable__label-arrow\">StandardScaler</label><div class=\"sk-toggleable__content\"><pre>StandardScaler()</pre></div></div></div><div class=\"sk-item\"><div class=\"sk-estimator sk-toggleable\"><input class=\"sk-toggleable__control sk-hidden--visually\" id=\"sk-estimator-id-11\" type=\"checkbox\" ><label for=\"sk-estimator-id-11\" class=\"sk-toggleable__label sk-toggleable__label-arrow\">SVC</label><div class=\"sk-toggleable__content\"><pre>SVC()</pre></div></div></div></div></div></div></div></div></div></div></div></div>"
      ],
      "text/plain": [
       "GridSearchCV(estimator=Pipeline(steps=[('Scaler', StandardScaler()),\n",
       "                                       ('CLF', SVC())]),\n",
       "             param_grid={'CLF__C': array([0.1       , 0.10816327, 0.11632653, 0.1244898 , 0.13265306,\n",
       "       0.14081633, 0.14897959, 0.15714286, 0.16530612, 0.17346939,\n",
       "       0.18163265, 0.18979592, 0.19795918, 0.20612245, 0.21428571,\n",
       "       0.22244898, 0.23061224, 0.23877551, 0.24693878, 0.25510204,\n",
       "       0.26326531, 0.27142857, 0.27959184, 0.2877551 , 0.29591837,\n",
       "       0.30408163, 0.3122449 , 0.32040816, 0.32857143, 0.33673469,\n",
       "       0.34489796, 0.35306122, 0.36122449, 0.36938776, 0.37755102,\n",
       "       0.38571429, 0.39387755, 0.40204082, 0.41020408, 0.41836735,\n",
       "       0.42653061, 0.43469388, 0.44285714, 0.45102041, 0.45918367,\n",
       "       0.46734694, 0.4755102 , 0.48367347, 0.49183673, 0.5       ]),\n",
       "                         'CLF__kernel': ['rbf', 'linear']},\n",
       "             verbose=5)"
      ]
     },
     "execution_count": 20,
     "metadata": {},
     "output_type": "execute_result"
    }
   ],
   "source": [
    "pipeline.set_params(CLF = SVC())\n",
    "params = {\n",
    "    'CLF__C' : np.linspace(0.1, 0.5, 50),\n",
    "    'CLF__kernel' : ['rbf', 'linear'],\n",
    "    \n",
    "}\n",
    "grid_svc = GridSearchCV(pipeline, param_grid=params, verbose=5)\n",
    "grid_svc.fit(Xtrain, Ytrain)"
   ]
  },
  {
   "cell_type": "markdown",
   "id": "95128f69",
   "metadata": {},
   "source": [
    "# Evaluation with Test Data"
   ]
  },
  {
   "cell_type": "code",
   "execution_count": 21,
   "id": "49ded90e",
   "metadata": {},
   "outputs": [
    {
     "name": "stdout",
     "output_type": "stream",
     "text": [
      "              precision    recall  f1-score   support\n",
      "\n",
      "           0       0.87      0.78      0.82        67\n",
      "           1       0.79      0.88      0.83        65\n",
      "\n",
      "    accuracy                           0.83       132\n",
      "   macro avg       0.83      0.83      0.83       132\n",
      "weighted avg       0.83      0.83      0.83       132\n",
      "\n"
     ]
    }
   ],
   "source": [
    "Ypred_c = grid_svc.predict(Xtest)\n",
    "print(classification_report(Ytest, Ypred_c))"
   ]
  },
  {
   "cell_type": "markdown",
   "id": "dd138b90",
   "metadata": {},
   "source": [
    "The best score among alghoritms is support Vector Machine 0.83 on Test Data"
   ]
  },
  {
   "cell_type": "code",
   "execution_count": 22,
   "id": "cf9882b6",
   "metadata": {},
   "outputs": [
    {
     "data": {
      "image/png": "[encoded data removed]",
      "text/plain": [
       "<Figure size 640x480 with 1 Axes>"
      ]
     },
     "metadata": {},
     "output_type": "display_data"
    }
   ],
   "source": [
    "#Predicting proba\n",
    "# Generate ROC curve values: fpr, tpr, thresholds\n",
    "fpr, tpr, thresholds = roc_curve(Ytest, Ypred_c)\n",
    "#plot ROC curve\n",
    "plt.plot([0,1], [0,1], 'k--')\n",
    "plt.plot(fpr, tpr)\n",
    "plt.xlabel('False Positive Rate')\n",
    "plt.ylabel('True Positive Rate')\n",
    "plt.title('ROC Curve')\n",
    "plt.show()"
   ]
  },
  {
   "cell_type": "code",
   "execution_count": null,
   "id": "31a56842",
   "metadata": {},
   "outputs": [],
   "source": []
  }
 ],
 "metadata": {
  "kernelspec": {
   "display_name": "Python 3 (ipykernel)",
   "language": "python",
   "name": "python3"
  },
  "language_info": {
   "codemirror_mode": {
    "name": "ipython",
    "version": 3
   },
   "file_extension": ".py",
   "mimetype": "text/x-python",
   "name": "python",
   "nbconvert_exporter": "python",
   "pygments_lexer": "ipython3",
   "version": "3.10.9"
  }
 },
 "nbformat": 4,
 "nbformat_minor": 5
}
